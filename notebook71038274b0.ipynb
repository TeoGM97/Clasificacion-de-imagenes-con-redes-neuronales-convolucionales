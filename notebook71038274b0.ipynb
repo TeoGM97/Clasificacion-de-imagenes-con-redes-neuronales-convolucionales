{
 "cells": [
  {
   "cell_type": "code",
   "execution_count": 1,
   "id": "befe26f6",
   "metadata": {
    "execution": {
     "iopub.execute_input": "2023-01-25T13:18:31.404342Z",
     "iopub.status.busy": "2023-01-25T13:18:31.403826Z",
     "iopub.status.idle": "2023-01-25T13:18:37.508161Z",
     "shell.execute_reply": "2023-01-25T13:18:37.507166Z"
    },
    "papermill": {
     "duration": 6.114226,
     "end_time": "2023-01-25T13:18:37.510853",
     "exception": false,
     "start_time": "2023-01-25T13:18:31.396627",
     "status": "completed"
    },
    "tags": []
   },
   "outputs": [],
   "source": [
    "from tensorflow import keras\n",
    "from tensorflow.keras.utils import to_categorical\n",
    "from tensorflow.keras import regularizers\n",
    "from tensorflow.keras.models import Sequential\n",
    "from tensorflow.keras.layers import Conv2D, MaxPooling2D, Flatten,Dense, Dropout, Activation\n",
    "from tensorflow.keras.datasets import cifar10"
   ]
  },
  {
   "cell_type": "code",
   "execution_count": 2,
   "id": "2bd7dff8",
   "metadata": {
    "execution": {
     "iopub.execute_input": "2023-01-25T13:18:37.521137Z",
     "iopub.status.busy": "2023-01-25T13:18:37.520599Z",
     "iopub.status.idle": "2023-01-25T13:18:37.526171Z",
     "shell.execute_reply": "2023-01-25T13:18:37.525330Z"
    },
    "papermill": {
     "duration": 0.012754,
     "end_time": "2023-01-25T13:18:37.528198",
     "exception": false,
     "start_time": "2023-01-25T13:18:37.515444",
     "status": "completed"
    },
    "tags": []
   },
   "outputs": [],
   "source": [
    "import numpy as np\n",
    "import matplotlib.pyplot as plt"
   ]
  },
  {
   "cell_type": "markdown",
   "id": "a920089c",
   "metadata": {
    "papermill": {
     "duration": 0.003923,
     "end_time": "2023-01-25T13:18:37.536230",
     "exception": false,
     "start_time": "2023-01-25T13:18:37.532307",
     "status": "completed"
    },
    "tags": []
   },
   "source": [
    "Vamos a cargar nuestros datos"
   ]
  },
  {
   "cell_type": "code",
   "execution_count": 3,
   "id": "c9309b84",
   "metadata": {
    "execution": {
     "iopub.execute_input": "2023-01-25T13:18:37.545564Z",
     "iopub.status.busy": "2023-01-25T13:18:37.545282Z",
     "iopub.status.idle": "2023-01-25T13:18:44.698141Z",
     "shell.execute_reply": "2023-01-25T13:18:44.696915Z"
    },
    "papermill": {
     "duration": 7.160897,
     "end_time": "2023-01-25T13:18:44.701235",
     "exception": false,
     "start_time": "2023-01-25T13:18:37.540338",
     "status": "completed"
    },
    "tags": []
   },
   "outputs": [
    {
     "name": "stdout",
     "output_type": "stream",
     "text": [
      "Downloading data from https://www.cs.toronto.edu/~kriz/cifar-10-python.tar.gz\n",
      "170500096/170498071 [==============================] - 5s 0us/step\n",
      "170508288/170498071 [==============================] - 5s 0us/step\n"
     ]
    }
   ],
   "source": [
    "(x_train, y_train), (x_test, y_test) = cifar10.load_data()"
   ]
  },
  {
   "cell_type": "markdown",
   "id": "77c14a9a",
   "metadata": {
    "papermill": {
     "duration": 0.009407,
     "end_time": "2023-01-25T13:18:44.720863",
     "exception": false,
     "start_time": "2023-01-25T13:18:44.711456",
     "status": "completed"
    },
    "tags": []
   },
   "source": [
    "Podemos ver que el dataset tiene multiples imagenes de multiples elementos como vehiculos, animales, etc"
   ]
  },
  {
   "cell_type": "code",
   "execution_count": 4,
   "id": "ae7a47fa",
   "metadata": {
    "execution": {
     "iopub.execute_input": "2023-01-25T13:18:44.741234Z",
     "iopub.status.busy": "2023-01-25T13:18:44.740910Z",
     "iopub.status.idle": "2023-01-25T13:18:45.130839Z",
     "shell.execute_reply": "2023-01-25T13:18:45.129834Z"
    },
    "papermill": {
     "duration": 0.402871,
     "end_time": "2023-01-25T13:18:45.133118",
     "exception": false,
     "start_time": "2023-01-25T13:18:44.730247",
     "status": "completed"
    },
    "tags": []
   },
   "outputs": [
    {
     "data": {
      "image/png": "[encoded data removed]",
      "text/plain": [
       "<Figure size 432x288 with 4 Axes>"
      ]
     },
     "metadata": {
      "needs_background": "light"
     },
     "output_type": "display_data"
    }
   ],
   "source": [
    "fig, axs = plt.subplots(2, 2) #Crea una matriz 2x2 para los subplots\n",
    "axs[0,0].imshow(x_train[1])\n",
    "axs[0,1].imshow(x_train[2])\n",
    "axs[1,0].imshow(x_train[3])\n",
    "axs[1,1].imshow(x_train[4])\n",
    "plt.show()"
   ]
  },
  {
   "cell_type": "markdown",
   "id": "01926a73",
   "metadata": {
    "papermill": {
     "duration": 0.009604,
     "end_time": "2023-01-25T13:18:45.153860",
     "exception": false,
     "start_time": "2023-01-25T13:18:45.144256",
     "status": "completed"
    },
    "tags": []
   },
   "source": [
    "Vamos a hacer una limpieza de datos comenzando por reducir la dimension de las imagenes. Sabemos que las matrices van de 0 a 255, entonces vamos a volver los numeros de 0 a 1 asi:"
   ]
  },
  {
   "cell_type": "code",
   "execution_count": 5,
   "id": "130df037",
   "metadata": {
    "execution": {
     "iopub.execute_input": "2023-01-25T13:18:45.176021Z",
     "iopub.status.busy": "2023-01-25T13:18:45.174999Z",
     "iopub.status.idle": "2023-01-25T13:18:45.420771Z",
     "shell.execute_reply": "2023-01-25T13:18:45.419798Z"
    },
    "papermill": {
     "duration": 0.259402,
     "end_time": "2023-01-25T13:18:45.423379",
     "exception": false,
     "start_time": "2023-01-25T13:18:45.163977",
     "status": "completed"
    },
    "tags": []
   },
   "outputs": [],
   "source": [
    "x_train = x_train.astype('float32')/255  #Quedaran imagenes de 32x32 en 3 distintas capas\n",
    "x_test = x_test.astype('float32')/255"
   ]
  },
  {
   "cell_type": "markdown",
   "id": "c6f0b654",
   "metadata": {
    "papermill": {
     "duration": 0.009678,
     "end_time": "2023-01-25T13:18:45.443328",
     "exception": false,
     "start_time": "2023-01-25T13:18:45.433650",
     "status": "completed"
    },
    "tags": []
   },
   "source": [
    "Vamos a reducir tambien o reestructurar los arreglos para los labels."
   ]
  },
  {
   "cell_type": "code",
   "execution_count": 6,
   "id": "f77e80a7",
   "metadata": {
    "execution": {
     "iopub.execute_input": "2023-01-25T13:18:45.464192Z",
     "iopub.status.busy": "2023-01-25T13:18:45.463856Z",
     "iopub.status.idle": "2023-01-25T13:18:45.472268Z",
     "shell.execute_reply": "2023-01-25T13:18:45.471443Z"
    },
    "papermill": {
     "duration": 0.021483,
     "end_time": "2023-01-25T13:18:45.474484",
     "exception": false,
     "start_time": "2023-01-25T13:18:45.453001",
     "status": "completed"
    },
    "tags": []
   },
   "outputs": [],
   "source": [
    "num_clases = len(np.unique(y_train)) #Hay 10 posibles numeros aca\n",
    "y_train = to_categorical(y_train, num_clases) #To categorical vuelve los valores de clasificacion en un binario\n",
    "y_test = to_categorical(y_test, num_clases) #Arreglo de 10 posibilidades donde marca el 1 donde esta la clase"
   ]
  },
  {
   "cell_type": "markdown",
   "id": "3d89aec8",
   "metadata": {
    "papermill": {
     "duration": 0.009641,
     "end_time": "2023-01-25T13:18:45.493797",
     "exception": false,
     "start_time": "2023-01-25T13:18:45.484156",
     "status": "completed"
    },
    "tags": []
   },
   "source": [
    "Vamos a dividir nuestro set de entrenamiento en set de validacion, entrenamiento y test"
   ]
  },
  {
   "cell_type": "code",
   "execution_count": 7,
   "id": "0ce2c388",
   "metadata": {
    "execution": {
     "iopub.execute_input": "2023-01-25T13:18:45.514004Z",
     "iopub.status.busy": "2023-01-25T13:18:45.513718Z",
     "iopub.status.idle": "2023-01-25T13:18:45.520178Z",
     "shell.execute_reply": "2023-01-25T13:18:45.519282Z"
    },
    "papermill": {
     "duration": 0.019238,
     "end_time": "2023-01-25T13:18:45.522646",
     "exception": false,
     "start_time": "2023-01-25T13:18:45.503408",
     "status": "completed"
    },
    "tags": []
   },
   "outputs": [
    {
     "name": "stdout",
     "output_type": "stream",
     "text": [
      "x_train shape: (45000, 32, 32, 3)\n",
      "train: 45000\n",
      "val: 5000\n",
      "test: 10000\n"
     ]
    }
   ],
   "source": [
    "(x_train, x_valid) = x_train[5000:], x_train[:5000]\n",
    "(y_train, y_valid) = y_train[5000:], y_train[:5000]\n",
    "\n",
    "print('x_train shape:', x_train.shape)\n",
    "\n",
    "print('train:', x_train.shape[0]) #Usara 45000 imagenes\n",
    "print('val:', x_valid.shape[0]) #Usara 5000 imagenes\n",
    "print('test:', x_test.shape[0]) #Usara 10000 imagenes"
   ]
  },
  {
   "cell_type": "markdown",
   "id": "9cd5fdfb",
   "metadata": {
    "papermill": {
     "duration": 0.009247,
     "end_time": "2023-01-25T13:18:45.541376",
     "exception": false,
     "start_time": "2023-01-25T13:18:45.532129",
     "status": "completed"
    },
    "tags": []
   },
   "source": [
    "Creacion de modelo"
   ]
  },
  {
   "cell_type": "code",
   "execution_count": 8,
   "id": "2311fc7c",
   "metadata": {
    "execution": {
     "iopub.execute_input": "2023-01-25T13:18:45.562991Z",
     "iopub.status.busy": "2023-01-25T13:18:45.562433Z",
     "iopub.status.idle": "2023-01-25T13:18:45.566664Z",
     "shell.execute_reply": "2023-01-25T13:18:45.565716Z"
    },
    "papermill": {
     "duration": 0.017646,
     "end_time": "2023-01-25T13:18:45.568954",
     "exception": false,
     "start_time": "2023-01-25T13:18:45.551308",
     "status": "completed"
    },
    "tags": []
   },
   "outputs": [],
   "source": [
    "base_filtros = 32\n",
    "w_regularizer = 1e-4"
   ]
  },
  {
   "cell_type": "code",
   "execution_count": 9,
   "id": "431978f8",
   "metadata": {
    "collapsed": true,
    "execution": {
     "iopub.execute_input": "2023-01-25T13:18:45.590979Z",
     "iopub.status.busy": "2023-01-25T13:18:45.590681Z",
     "iopub.status.idle": "2023-01-25T13:18:49.459342Z",
     "shell.execute_reply": "2023-01-25T13:18:49.458317Z"
    },
    "jupyter": {
     "outputs_hidden": true
    },
    "papermill": {
     "duration": 3.885013,
     "end_time": "2023-01-25T13:18:49.464351",
     "exception": false,
     "start_time": "2023-01-25T13:18:45.579338",
     "status": "completed"
    },
    "tags": []
   },
   "outputs": [
    {
     "name": "stderr",
     "output_type": "stream",
     "text": [
      "2023-01-25 13:18:45.884175: I tensorflow/stream_executor/cuda/cuda_gpu_executor.cc:937] successful NUMA node read from SysFS had negative value (-1), but there must be at least one NUMA node, so returning NUMA node zero\n",
      "2023-01-25 13:18:45.885160: I tensorflow/stream_executor/cuda/cuda_gpu_executor.cc:937] successful NUMA node read from SysFS had negative value (-1), but there must be at least one NUMA node, so returning NUMA node zero\n",
      "2023-01-25 13:18:46.042009: I tensorflow/stream_executor/cuda/cuda_gpu_executor.cc:937] successful NUMA node read from SysFS had negative value (-1), but there must be at least one NUMA node, so returning NUMA node zero\n",
      "2023-01-25 13:18:46.043003: I tensorflow/stream_executor/cuda/cuda_gpu_executor.cc:937] successful NUMA node read from SysFS had negative value (-1), but there must be at least one NUMA node, so returning NUMA node zero\n",
      "2023-01-25 13:18:46.044228: I tensorflow/stream_executor/cuda/cuda_gpu_executor.cc:937] successful NUMA node read from SysFS had negative value (-1), but there must be at least one NUMA node, so returning NUMA node zero\n",
      "2023-01-25 13:18:46.045446: I tensorflow/stream_executor/cuda/cuda_gpu_executor.cc:937] successful NUMA node read from SysFS had negative value (-1), but there must be at least one NUMA node, so returning NUMA node zero\n"
     ]
    },
    {
     "name": "stdout",
     "output_type": "stream",
     "text": [
      "Model: \"sequential\"\n",
      "_________________________________________________________________\n",
      "Layer (type)                 Output Shape              Param #   \n",
      "=================================================================\n",
      "conv2d (Conv2D)              (None, 32, 32, 32)        896       \n",
      "_________________________________________________________________\n",
      "activation (Activation)      (None, 32, 32, 32)        0         \n",
      "_________________________________________________________________\n",
      "conv2d_1 (Conv2D)            (None, 32, 32, 32)        9248      \n",
      "_________________________________________________________________\n",
      "activation_1 (Activation)    (None, 32, 32, 32)        0         \n",
      "_________________________________________________________________\n",
      "max_pooling2d (MaxPooling2D) (None, 16, 16, 32)        0         \n",
      "_________________________________________________________________\n",
      "dropout (Dropout)            (None, 16, 16, 32)        0         \n",
      "_________________________________________________________________\n",
      "conv2d_2 (Conv2D)            (None, 16, 16, 64)        18496     \n",
      "_________________________________________________________________\n",
      "activation_2 (Activation)    (None, 16, 16, 64)        0         \n",
      "_________________________________________________________________\n",
      "dropout_1 (Dropout)          (None, 16, 16, 64)        0         \n",
      "_________________________________________________________________\n",
      "conv2d_3 (Conv2D)            (None, 16, 16, 64)        36928     \n",
      "_________________________________________________________________\n",
      "activation_3 (Activation)    (None, 16, 16, 64)        0         \n",
      "_________________________________________________________________\n",
      "max_pooling2d_1 (MaxPooling2 (None, 8, 8, 64)          0         \n",
      "_________________________________________________________________\n",
      "dropout_2 (Dropout)          (None, 8, 8, 64)          0         \n",
      "_________________________________________________________________\n",
      "conv2d_4 (Conv2D)            (None, 8, 8, 128)         73856     \n",
      "_________________________________________________________________\n",
      "activation_4 (Activation)    (None, 8, 8, 128)         0         \n",
      "_________________________________________________________________\n",
      "conv2d_5 (Conv2D)            (None, 8, 8, 128)         147584    \n",
      "_________________________________________________________________\n",
      "activation_5 (Activation)    (None, 8, 8, 128)         0         \n",
      "_________________________________________________________________\n",
      "max_pooling2d_2 (MaxPooling2 (None, 4, 4, 128)         0         \n",
      "_________________________________________________________________\n",
      "dropout_3 (Dropout)          (None, 4, 4, 128)         0         \n",
      "_________________________________________________________________\n",
      "flatten (Flatten)            (None, 2048)              0         \n",
      "_________________________________________________________________\n",
      "dense (Dense)                (None, 10)                20490     \n",
      "=================================================================\n",
      "Total params: 307,498\n",
      "Trainable params: 307,498\n",
      "Non-trainable params: 0\n",
      "_________________________________________________________________\n"
     ]
    },
    {
     "name": "stderr",
     "output_type": "stream",
     "text": [
      "2023-01-25 13:18:46.049734: I tensorflow/core/platform/cpu_feature_guard.cc:142] This TensorFlow binary is optimized with oneAPI Deep Neural Network Library (oneDNN) to use the following CPU instructions in performance-critical operations:  AVX2 AVX512F FMA\n",
      "To enable them in other operations, rebuild TensorFlow with the appropriate compiler flags.\n",
      "2023-01-25 13:18:46.303505: I tensorflow/stream_executor/cuda/cuda_gpu_executor.cc:937] successful NUMA node read from SysFS had negative value (-1), but there must be at least one NUMA node, so returning NUMA node zero\n",
      "2023-01-25 13:18:46.304377: I tensorflow/stream_executor/cuda/cuda_gpu_executor.cc:937] successful NUMA node read from SysFS had negative value (-1), but there must be at least one NUMA node, so returning NUMA node zero\n",
      "2023-01-25 13:18:46.305179: I tensorflow/stream_executor/cuda/cuda_gpu_executor.cc:937] successful NUMA node read from SysFS had negative value (-1), but there must be at least one NUMA node, so returning NUMA node zero\n",
      "2023-01-25 13:18:46.305943: I tensorflow/stream_executor/cuda/cuda_gpu_executor.cc:937] successful NUMA node read from SysFS had negative value (-1), but there must be at least one NUMA node, so returning NUMA node zero\n",
      "2023-01-25 13:18:46.306637: I tensorflow/stream_executor/cuda/cuda_gpu_executor.cc:937] successful NUMA node read from SysFS had negative value (-1), but there must be at least one NUMA node, so returning NUMA node zero\n",
      "2023-01-25 13:18:46.307335: I tensorflow/stream_executor/cuda/cuda_gpu_executor.cc:937] successful NUMA node read from SysFS had negative value (-1), but there must be at least one NUMA node, so returning NUMA node zero\n",
      "2023-01-25 13:18:48.996271: I tensorflow/stream_executor/cuda/cuda_gpu_executor.cc:937] successful NUMA node read from SysFS had negative value (-1), but there must be at least one NUMA node, so returning NUMA node zero\n",
      "2023-01-25 13:18:48.997194: I tensorflow/stream_executor/cuda/cuda_gpu_executor.cc:937] successful NUMA node read from SysFS had negative value (-1), but there must be at least one NUMA node, so returning NUMA node zero\n",
      "2023-01-25 13:18:48.998020: I tensorflow/stream_executor/cuda/cuda_gpu_executor.cc:937] successful NUMA node read from SysFS had negative value (-1), but there must be at least one NUMA node, so returning NUMA node zero\n",
      "2023-01-25 13:18:48.998798: I tensorflow/stream_executor/cuda/cuda_gpu_executor.cc:937] successful NUMA node read from SysFS had negative value (-1), but there must be at least one NUMA node, so returning NUMA node zero\n",
      "2023-01-25 13:18:48.999511: I tensorflow/stream_executor/cuda/cuda_gpu_executor.cc:937] successful NUMA node read from SysFS had negative value (-1), but there must be at least one NUMA node, so returning NUMA node zero\n",
      "2023-01-25 13:18:49.000192: I tensorflow/core/common_runtime/gpu/gpu_device.cc:1510] Created device /job:localhost/replica:0/task:0/device:GPU:0 with 13789 MB memory:  -> device: 0, name: Tesla T4, pci bus id: 0000:00:04.0, compute capability: 7.5\n",
      "2023-01-25 13:18:49.003265: I tensorflow/stream_executor/cuda/cuda_gpu_executor.cc:937] successful NUMA node read from SysFS had negative value (-1), but there must be at least one NUMA node, so returning NUMA node zero\n",
      "2023-01-25 13:18:49.003987: I tensorflow/core/common_runtime/gpu/gpu_device.cc:1510] Created device /job:localhost/replica:0/task:0/device:GPU:1 with 13789 MB memory:  -> device: 1, name: Tesla T4, pci bus id: 0000:00:05.0, compute capability: 7.5\n"
     ]
    }
   ],
   "source": [
    "model = Sequential()\n",
    "#Vamos a stakear capas\n",
    "\n",
    "##CONVOLUCION 1\n",
    "#en el parentesis hay: (Conv2D(#filtros, tamano de kernel, padding, kernel regularizer))\n",
    "model.add(Conv2D(base_filtros, (3,3), padding='same', kernel_regularizer=regularizers.l2(w_regularizer), input_shape=x_train.shape[1:])) \n",
    "#capa de activacion Relu\n",
    "model.add(Activation('relu'))\n",
    "\n",
    "##CONVOLUCION 2\n",
    "#No necesita definir entrada porque esta se ve definida por la capa anterior\n",
    "model.add(Conv2D(base_filtros, (3,3), padding='same', kernel_regularizer=regularizers.l2(w_regularizer)))\n",
    "#capa de activacion Relu\n",
    "model.add(Activation('relu'))\n",
    "#capa de maxpooling (Se hara cada 2 capas) para reducir la complejidad del modelo\n",
    "model.add(MaxPooling2D(pool_size=(2,2))) #El pool size o kernel sera de 2x2\n",
    "#capa de dropout para vigilar el overfiting\n",
    "model.add(Dropout(0.2))\n",
    "\n",
    "##CONVOLUCION 3\n",
    "#Se hara mas profunda. El doble de filtros\n",
    "model.add(Conv2D(2*base_filtros, (3,3), padding='same', kernel_regularizer=regularizers.l2(w_regularizer)))\n",
    "#capa de activacion Relu\n",
    "model.add(Activation('relu'))\n",
    "#capa de dropout\n",
    "model.add(Dropout(0.2))\n",
    "\n",
    "##CONVOLUCION 4\n",
    "model.add(Conv2D(2*base_filtros, (3,3), padding='same', kernel_regularizer=regularizers.l2(w_regularizer)))\n",
    "#capa de activacion Relu\n",
    "model.add(Activation('relu'))\n",
    "#capa de maxpooling\n",
    "model.add(MaxPooling2D(pool_size=(2,2)))\n",
    "#capa de dropout\n",
    "model.add(Dropout(0.3))\n",
    "\n",
    "##CONVOLUCION 5\n",
    "#Aun mas profunda. 4 veces mas filtros\n",
    "model.add(Conv2D(4*base_filtros, (3,3), padding='same', kernel_regularizer=regularizers.l2(w_regularizer)))\n",
    "#capa de activacion Relu\n",
    "model.add(Activation('relu'))\n",
    "\n",
    "##CONVOLUCION 6\n",
    "model.add(Conv2D(4*base_filtros, (3,3), padding='same', kernel_regularizer=regularizers.l2(w_regularizer)))\n",
    "#capa de activacion Relu\n",
    "model.add(Activation('relu'))\n",
    "#capa de maxpooling\n",
    "model.add(MaxPooling2D(pool_size=(2,2)))\n",
    "#capa de dropout\n",
    "model.add(Dropout(0.4))\n",
    "\n",
    "##CLASIFICACION Y FLATTEN\n",
    "#capa flatten para agregar todo el resultado de la ultima convolucion se va a llevar a una unica dimension\n",
    "model.add(Flatten())\n",
    "#capa fully conect densa para la clasificacion de las imagenes\n",
    "model.add(Dense(num_clases, activation='softmax'))\n",
    "\n",
    "model.summary()\n"
   ]
  },
  {
   "cell_type": "markdown",
   "id": "5e51cdb9",
   "metadata": {
    "papermill": {
     "duration": 0.009986,
     "end_time": "2023-01-25T13:18:49.485367",
     "exception": false,
     "start_time": "2023-01-25T13:18:49.475381",
     "status": "completed"
    },
    "tags": []
   },
   "source": [
    "Vamos a compilar el modelo"
   ]
  },
  {
   "cell_type": "code",
   "execution_count": 10,
   "id": "65c6fd08",
   "metadata": {
    "execution": {
     "iopub.execute_input": "2023-01-25T13:18:49.512122Z",
     "iopub.status.busy": "2023-01-25T13:18:49.511690Z",
     "iopub.status.idle": "2023-01-25T13:18:49.532710Z",
     "shell.execute_reply": "2023-01-25T13:18:49.531416Z"
    },
    "papermill": {
     "duration": 0.040048,
     "end_time": "2023-01-25T13:18:49.535668",
     "exception": false,
     "start_time": "2023-01-25T13:18:49.495620",
     "status": "completed"
    },
    "tags": []
   },
   "outputs": [],
   "source": [
    "model.compile(loss='categorical_crossentropy', optimizer='rmsprop',\n",
    "             metrics=['accuracy'])"
   ]
  },
  {
   "cell_type": "markdown",
   "id": "bd7dfb1a",
   "metadata": {
    "papermill": {
     "duration": 0.018147,
     "end_time": "2023-01-25T13:18:49.572757",
     "exception": false,
     "start_time": "2023-01-25T13:18:49.554610",
     "status": "completed"
    },
    "tags": []
   },
   "source": [
    "Entrenamiento del modelo"
   ]
  },
  {
   "cell_type": "code",
   "execution_count": 11,
   "id": "13823ee5",
   "metadata": {
    "execution": {
     "iopub.execute_input": "2023-01-25T13:18:49.608786Z",
     "iopub.status.busy": "2023-01-25T13:18:49.608482Z",
     "iopub.status.idle": "2023-01-25T13:32:14.503034Z",
     "shell.execute_reply": "2023-01-25T13:32:14.501943Z"
    },
    "papermill": {
     "duration": 804.916812,
     "end_time": "2023-01-25T13:32:14.505897",
     "exception": false,
     "start_time": "2023-01-25T13:18:49.589085",
     "status": "completed"
    },
    "tags": []
   },
   "outputs": [
    {
     "name": "stderr",
     "output_type": "stream",
     "text": [
      "2023-01-25 13:18:51.260920: I tensorflow/compiler/mlir/mlir_graph_optimization_pass.cc:185] None of the MLIR Optimization Passes are enabled (registered 2)\n"
     ]
    },
    {
     "name": "stdout",
     "output_type": "stream",
     "text": [
      "Epoch 1/100\n"
     ]
    },
    {
     "name": "stderr",
     "output_type": "stream",
     "text": [
      "2023-01-25 13:18:53.890196: I tensorflow/stream_executor/cuda/cuda_dnn.cc:369] Loaded cuDNN version 8005\n"
     ]
    },
    {
     "name": "stdout",
     "output_type": "stream",
     "text": [
      "1407/1407 - 18s - loss: 1.6902 - accuracy: 0.3921 - val_loss: 1.4696 - val_accuracy: 0.4986\n",
      "Epoch 2/100\n",
      "1407/1407 - 8s - loss: 1.2609 - accuracy: 0.5662 - val_loss: 1.1990 - val_accuracy: 0.5936\n",
      "Epoch 3/100\n",
      "1407/1407 - 8s - loss: 1.1039 - accuracy: 0.6264 - val_loss: 1.0763 - val_accuracy: 0.6352\n",
      "Epoch 4/100\n",
      "1407/1407 - 7s - loss: 1.0137 - accuracy: 0.6671 - val_loss: 1.0537 - val_accuracy: 0.6600\n",
      "Epoch 5/100\n",
      "1407/1407 - 7s - loss: 0.9547 - accuracy: 0.6885 - val_loss: 0.8773 - val_accuracy: 0.7204\n",
      "Epoch 6/100\n",
      "1407/1407 - 8s - loss: 0.9158 - accuracy: 0.7082 - val_loss: 0.8340 - val_accuracy: 0.7380\n",
      "Epoch 7/100\n",
      "1407/1407 - 8s - loss: 0.8923 - accuracy: 0.7215 - val_loss: 0.8504 - val_accuracy: 0.7402\n",
      "Epoch 8/100\n",
      "1407/1407 - 8s - loss: 0.8762 - accuracy: 0.7275 - val_loss: 0.8083 - val_accuracy: 0.7510\n",
      "Epoch 9/100\n",
      "1407/1407 - 7s - loss: 0.8592 - accuracy: 0.7350 - val_loss: 0.8216 - val_accuracy: 0.7500\n",
      "Epoch 10/100\n",
      "1407/1407 - 8s - loss: 0.8572 - accuracy: 0.7372 - val_loss: 0.8353 - val_accuracy: 0.7518\n",
      "Epoch 11/100\n",
      "1407/1407 - 8s - loss: 0.8536 - accuracy: 0.7401 - val_loss: 0.9405 - val_accuracy: 0.7070\n",
      "Epoch 12/100\n",
      "1407/1407 - 7s - loss: 0.8522 - accuracy: 0.7436 - val_loss: 1.1116 - val_accuracy: 0.6672\n",
      "Epoch 13/100\n",
      "1407/1407 - 7s - loss: 0.8491 - accuracy: 0.7429 - val_loss: 0.8085 - val_accuracy: 0.7552\n",
      "Epoch 14/100\n",
      "1407/1407 - 8s - loss: 0.8556 - accuracy: 0.7419 - val_loss: 0.8416 - val_accuracy: 0.7478\n",
      "Epoch 15/100\n",
      "1407/1407 - 8s - loss: 0.8587 - accuracy: 0.7431 - val_loss: 0.9195 - val_accuracy: 0.7228\n",
      "Epoch 16/100\n",
      "1407/1407 - 7s - loss: 0.8608 - accuracy: 0.7449 - val_loss: 0.9277 - val_accuracy: 0.7396\n",
      "Epoch 17/100\n",
      "1407/1407 - 8s - loss: 0.8575 - accuracy: 0.7438 - val_loss: 0.9692 - val_accuracy: 0.7116\n",
      "Epoch 18/100\n",
      "1407/1407 - 8s - loss: 0.8645 - accuracy: 0.7412 - val_loss: 0.9164 - val_accuracy: 0.7208\n",
      "Epoch 19/100\n",
      "1407/1407 - 7s - loss: 0.8598 - accuracy: 0.7448 - val_loss: 0.7897 - val_accuracy: 0.7718\n",
      "Epoch 20/100\n",
      "1407/1407 - 8s - loss: 0.8720 - accuracy: 0.7416 - val_loss: 0.9260 - val_accuracy: 0.7240\n",
      "Epoch 21/100\n",
      "1407/1407 - 8s - loss: 0.8713 - accuracy: 0.7404 - val_loss: 1.2494 - val_accuracy: 0.6570\n",
      "Epoch 22/100\n",
      "1407/1407 - 8s - loss: 0.8780 - accuracy: 0.7410 - val_loss: 0.7926 - val_accuracy: 0.7666\n",
      "Epoch 23/100\n",
      "1407/1407 - 7s - loss: 0.8800 - accuracy: 0.7391 - val_loss: 0.8293 - val_accuracy: 0.7568\n",
      "Epoch 24/100\n",
      "1407/1407 - 8s - loss: 0.8818 - accuracy: 0.7407 - val_loss: 0.8308 - val_accuracy: 0.7514\n",
      "Epoch 25/100\n",
      "1407/1407 - 8s - loss: 0.8836 - accuracy: 0.7399 - val_loss: 0.9154 - val_accuracy: 0.7254\n",
      "Epoch 26/100\n",
      "1407/1407 - 8s - loss: 0.8871 - accuracy: 0.7378 - val_loss: 0.9608 - val_accuracy: 0.7092\n",
      "Epoch 27/100\n",
      "1407/1407 - 8s - loss: 0.8981 - accuracy: 0.7372 - val_loss: 0.8865 - val_accuracy: 0.7318\n",
      "Epoch 28/100\n",
      "1407/1407 - 7s - loss: 0.9007 - accuracy: 0.7334 - val_loss: 0.9740 - val_accuracy: 0.6930\n",
      "Epoch 29/100\n",
      "1407/1407 - 7s - loss: 0.9070 - accuracy: 0.7319 - val_loss: 0.7781 - val_accuracy: 0.7744\n",
      "Epoch 30/100\n",
      "1407/1407 - 7s - loss: 0.9061 - accuracy: 0.7332 - val_loss: 0.8089 - val_accuracy: 0.7624\n",
      "Epoch 31/100\n",
      "1407/1407 - 8s - loss: 0.9144 - accuracy: 0.7306 - val_loss: 0.7771 - val_accuracy: 0.7718\n",
      "Epoch 32/100\n",
      "1407/1407 - 7s - loss: 0.9191 - accuracy: 0.7308 - val_loss: 0.7885 - val_accuracy: 0.7742\n",
      "Epoch 33/100\n",
      "1407/1407 - 8s - loss: 0.9278 - accuracy: 0.7270 - val_loss: 0.9852 - val_accuracy: 0.6998\n",
      "Epoch 34/100\n",
      "1407/1407 - 8s - loss: 0.9344 - accuracy: 0.7284 - val_loss: 0.8670 - val_accuracy: 0.7552\n",
      "Epoch 35/100\n",
      "1407/1407 - 8s - loss: 0.9257 - accuracy: 0.7287 - val_loss: 0.8837 - val_accuracy: 0.7260\n",
      "Epoch 36/100\n",
      "1407/1407 - 7s - loss: 0.9420 - accuracy: 0.7258 - val_loss: 0.8969 - val_accuracy: 0.7286\n",
      "Epoch 37/100\n",
      "1407/1407 - 7s - loss: 0.9503 - accuracy: 0.7225 - val_loss: 1.0139 - val_accuracy: 0.7238\n",
      "Epoch 38/100\n",
      "1407/1407 - 7s - loss: 0.9707 - accuracy: 0.7168 - val_loss: 0.8213 - val_accuracy: 0.7668\n",
      "Epoch 39/100\n",
      "1407/1407 - 8s - loss: 0.9697 - accuracy: 0.7159 - val_loss: 0.9266 - val_accuracy: 0.7400\n",
      "Epoch 40/100\n",
      "1407/1407 - 8s - loss: 0.9611 - accuracy: 0.7201 - val_loss: 0.8646 - val_accuracy: 0.7518\n",
      "Epoch 41/100\n",
      "1407/1407 - 8s - loss: 0.9667 - accuracy: 0.7158 - val_loss: 0.9151 - val_accuracy: 0.7252\n",
      "Epoch 42/100\n",
      "1407/1407 - 7s - loss: 0.9725 - accuracy: 0.7168 - val_loss: 1.9609 - val_accuracy: 0.5030\n",
      "Epoch 43/100\n",
      "1407/1407 - 8s - loss: 0.9704 - accuracy: 0.7168 - val_loss: 0.9047 - val_accuracy: 0.7336\n",
      "Epoch 44/100\n",
      "1407/1407 - 7s - loss: 0.9771 - accuracy: 0.7147 - val_loss: 0.9387 - val_accuracy: 0.7328\n",
      "Epoch 45/100\n",
      "1407/1407 - 7s - loss: 0.9781 - accuracy: 0.7141 - val_loss: 1.2499 - val_accuracy: 0.6650\n",
      "Epoch 46/100\n",
      "1407/1407 - 8s - loss: 0.9770 - accuracy: 0.7147 - val_loss: 0.8234 - val_accuracy: 0.7682\n",
      "Epoch 47/100\n",
      "1407/1407 - 8s - loss: 0.9804 - accuracy: 0.7135 - val_loss: 0.9202 - val_accuracy: 0.7240\n",
      "Epoch 48/100\n",
      "1407/1407 - 7s - loss: 0.9889 - accuracy: 0.7118 - val_loss: 1.0300 - val_accuracy: 0.6864\n",
      "Epoch 49/100\n",
      "1407/1407 - 7s - loss: 0.9957 - accuracy: 0.7082 - val_loss: 0.8570 - val_accuracy: 0.7416\n",
      "Epoch 50/100\n",
      "1407/1407 - 7s - loss: 0.9993 - accuracy: 0.7083 - val_loss: 1.0103 - val_accuracy: 0.7096\n",
      "Epoch 51/100\n",
      "1407/1407 - 7s - loss: 1.0137 - accuracy: 0.7038 - val_loss: 1.0495 - val_accuracy: 0.7004\n",
      "Epoch 52/100\n",
      "1407/1407 - 8s - loss: 1.0147 - accuracy: 0.7048 - val_loss: 1.3115 - val_accuracy: 0.6656\n",
      "Epoch 53/100\n",
      "1407/1407 - 7s - loss: 1.0211 - accuracy: 0.7009 - val_loss: 0.8912 - val_accuracy: 0.7328\n",
      "Epoch 54/100\n",
      "1407/1407 - 7s - loss: 1.0237 - accuracy: 0.7002 - val_loss: 1.0497 - val_accuracy: 0.6772\n",
      "Epoch 55/100\n",
      "1407/1407 - 7s - loss: 1.0352 - accuracy: 0.7002 - val_loss: 1.4531 - val_accuracy: 0.5896\n",
      "Epoch 56/100\n",
      "1407/1407 - 8s - loss: 1.0456 - accuracy: 0.6957 - val_loss: 1.1417 - val_accuracy: 0.6556\n",
      "Epoch 57/100\n",
      "1407/1407 - 8s - loss: 1.0434 - accuracy: 0.6951 - val_loss: 0.9054 - val_accuracy: 0.7354\n",
      "Epoch 58/100\n",
      "1407/1407 - 8s - loss: 1.0575 - accuracy: 0.6906 - val_loss: 0.9576 - val_accuracy: 0.7120\n",
      "Epoch 59/100\n",
      "1407/1407 - 8s - loss: 1.0566 - accuracy: 0.6932 - val_loss: 1.0023 - val_accuracy: 0.7012\n",
      "Epoch 60/100\n",
      "1407/1407 - 8s - loss: 1.0704 - accuracy: 0.6890 - val_loss: 1.0742 - val_accuracy: 0.6880\n",
      "Epoch 61/100\n",
      "1407/1407 - 7s - loss: 1.0586 - accuracy: 0.6918 - val_loss: 1.1935 - val_accuracy: 0.6626\n",
      "Epoch 62/100\n",
      "1407/1407 - 7s - loss: 1.0743 - accuracy: 0.6872 - val_loss: 1.0173 - val_accuracy: 0.7026\n",
      "Epoch 63/100\n",
      "1407/1407 - 8s - loss: 1.0810 - accuracy: 0.6859 - val_loss: 1.0988 - val_accuracy: 0.6752\n",
      "Epoch 64/100\n",
      "1407/1407 - 8s - loss: 1.0768 - accuracy: 0.6854 - val_loss: 0.9310 - val_accuracy: 0.7288\n",
      "Epoch 65/100\n",
      "1407/1407 - 8s - loss: 1.0900 - accuracy: 0.6801 - val_loss: 1.1035 - val_accuracy: 0.6724\n",
      "Epoch 66/100\n",
      "1407/1407 - 8s - loss: 1.0864 - accuracy: 0.6831 - val_loss: 1.3466 - val_accuracy: 0.6340\n",
      "Epoch 67/100\n",
      "1407/1407 - 7s - loss: 1.0940 - accuracy: 0.6798 - val_loss: 0.9965 - val_accuracy: 0.7102\n",
      "Epoch 68/100\n",
      "1407/1407 - 8s - loss: 1.1090 - accuracy: 0.6776 - val_loss: 1.0705 - val_accuracy: 0.6820\n",
      "Epoch 69/100\n",
      "1407/1407 - 7s - loss: 1.1111 - accuracy: 0.6758 - val_loss: 0.9180 - val_accuracy: 0.7382\n",
      "Epoch 70/100\n",
      "1407/1407 - 7s - loss: 1.1103 - accuracy: 0.6758 - val_loss: 1.0341 - val_accuracy: 0.6974\n",
      "Epoch 71/100\n",
      "1407/1407 - 7s - loss: 1.1187 - accuracy: 0.6719 - val_loss: 0.9433 - val_accuracy: 0.7222\n",
      "Epoch 72/100\n",
      "1407/1407 - 8s - loss: 1.1355 - accuracy: 0.6642 - val_loss: 1.0324 - val_accuracy: 0.6796\n",
      "Epoch 73/100\n",
      "1407/1407 - 8s - loss: 1.1370 - accuracy: 0.6633 - val_loss: 1.3025 - val_accuracy: 0.6204\n",
      "Epoch 74/100\n",
      "1407/1407 - 7s - loss: 1.1447 - accuracy: 0.6630 - val_loss: 1.1431 - val_accuracy: 0.6758\n",
      "Epoch 75/100\n",
      "1407/1407 - 7s - loss: 1.1669 - accuracy: 0.6592 - val_loss: 1.1060 - val_accuracy: 0.6550\n",
      "Epoch 76/100\n",
      "1407/1407 - 8s - loss: 1.1701 - accuracy: 0.6560 - val_loss: 1.0836 - val_accuracy: 0.6872\n",
      "Epoch 77/100\n",
      "1407/1407 - 7s - loss: 1.1695 - accuracy: 0.6571 - val_loss: 1.0618 - val_accuracy: 0.6862\n",
      "Epoch 78/100\n",
      "1407/1407 - 8s - loss: 1.1840 - accuracy: 0.6503 - val_loss: 1.0018 - val_accuracy: 0.7000\n",
      "Epoch 79/100\n",
      "1407/1407 - 8s - loss: 1.1763 - accuracy: 0.6542 - val_loss: 0.8732 - val_accuracy: 0.7454\n",
      "Epoch 80/100\n",
      "1407/1407 - 7s - loss: 1.1747 - accuracy: 0.6520 - val_loss: 0.9943 - val_accuracy: 0.6966\n",
      "Epoch 81/100\n",
      "1407/1407 - 8s - loss: 1.1630 - accuracy: 0.6540 - val_loss: 1.0576 - val_accuracy: 0.6746\n",
      "Epoch 82/100\n",
      "1407/1407 - 8s - loss: 1.1630 - accuracy: 0.6578 - val_loss: 0.9893 - val_accuracy: 0.7032\n",
      "Epoch 83/100\n",
      "1407/1407 - 8s - loss: 1.1778 - accuracy: 0.6500 - val_loss: 1.1201 - val_accuracy: 0.6864\n",
      "Epoch 84/100\n",
      "1407/1407 - 7s - loss: 1.2052 - accuracy: 0.6423 - val_loss: 1.3472 - val_accuracy: 0.5874\n",
      "Epoch 85/100\n",
      "1407/1407 - 8s - loss: 1.2006 - accuracy: 0.6438 - val_loss: 1.0911 - val_accuracy: 0.6636\n",
      "Epoch 86/100\n",
      "1407/1407 - 8s - loss: 1.2046 - accuracy: 0.6404 - val_loss: 1.2355 - val_accuracy: 0.6508\n",
      "Epoch 87/100\n",
      "1407/1407 - 8s - loss: 1.2050 - accuracy: 0.6400 - val_loss: 1.0091 - val_accuracy: 0.7154\n",
      "Epoch 88/100\n",
      "1407/1407 - 8s - loss: 1.2117 - accuracy: 0.6425 - val_loss: 1.0896 - val_accuracy: 0.6682\n",
      "Epoch 89/100\n",
      "1407/1407 - 8s - loss: 1.2181 - accuracy: 0.6392 - val_loss: 1.3783 - val_accuracy: 0.5860\n",
      "Epoch 90/100\n",
      "1407/1407 - 8s - loss: 1.2251 - accuracy: 0.6364 - val_loss: 1.0491 - val_accuracy: 0.6816\n",
      "Epoch 91/100\n",
      "1407/1407 - 8s - loss: 1.2381 - accuracy: 0.6311 - val_loss: 1.5658 - val_accuracy: 0.5560\n",
      "Epoch 92/100\n",
      "1407/1407 - 8s - loss: 1.2414 - accuracy: 0.6314 - val_loss: 1.1300 - val_accuracy: 0.6528\n",
      "Epoch 93/100\n",
      "1407/1407 - 9s - loss: 1.2409 - accuracy: 0.6302 - val_loss: 1.0859 - val_accuracy: 0.6832\n",
      "Epoch 94/100\n",
      "1407/1407 - 8s - loss: 1.2560 - accuracy: 0.6243 - val_loss: 1.0104 - val_accuracy: 0.7060\n",
      "Epoch 95/100\n",
      "1407/1407 - 8s - loss: 1.2587 - accuracy: 0.6237 - val_loss: 1.1693 - val_accuracy: 0.6350\n",
      "Epoch 96/100\n",
      "1407/1407 - 8s - loss: 1.2695 - accuracy: 0.6209 - val_loss: 1.4786 - val_accuracy: 0.5490\n",
      "Epoch 97/100\n",
      "1407/1407 - 8s - loss: 1.2590 - accuracy: 0.6242 - val_loss: 1.2204 - val_accuracy: 0.6210\n",
      "Epoch 98/100\n",
      "1407/1407 - 7s - loss: 1.2702 - accuracy: 0.6210 - val_loss: 1.2866 - val_accuracy: 0.6094\n",
      "Epoch 99/100\n",
      "1407/1407 - 8s - loss: 1.2716 - accuracy: 0.6185 - val_loss: 1.2726 - val_accuracy: 0.6252\n",
      "Epoch 100/100\n",
      "1407/1407 - 8s - loss: 1.2633 - accuracy: 0.6233 - val_loss: 1.0477 - val_accuracy: 0.6762\n"
     ]
    }
   ],
   "source": [
    "#el batch size indica que va a tomar lotes de a 32 imagenes por iteracion\n",
    "#Si hay poquitas imagenes no hay necesidad de darle este paremetro, pero si hay muchas como en este caso, si se debe usar\n",
    "#A mayor batch size, mas recursos va a consumir.\n",
    "hist = model.fit(x_train, y_train, batch_size=32, epochs=100,\n",
    "                validation_data=(x_valid, y_valid),\n",
    "                verbose=2, shuffle=True) #Como se van a ver los datos, mezcla de datos"
   ]
  },
  {
   "cell_type": "markdown",
   "id": "dfd9b24c",
   "metadata": {
    "papermill": {
     "duration": 0.020089,
     "end_time": "2023-01-25T13:32:14.546851",
     "exception": false,
     "start_time": "2023-01-25T13:32:14.526762",
     "status": "completed"
    },
    "tags": []
   },
   "source": [
    "Visualizacion de comportamiento "
   ]
  },
  {
   "cell_type": "code",
   "execution_count": 12,
   "id": "1677a6eb",
   "metadata": {
    "execution": {
     "iopub.execute_input": "2023-01-25T13:32:14.589802Z",
     "iopub.status.busy": "2023-01-25T13:32:14.589448Z",
     "iopub.status.idle": "2023-01-25T13:32:14.807956Z",
     "shell.execute_reply": "2023-01-25T13:32:14.806859Z"
    },
    "papermill": {
     "duration": 0.24314,
     "end_time": "2023-01-25T13:32:14.810484",
     "exception": false,
     "start_time": "2023-01-25T13:32:14.567344",
     "status": "completed"
    },
    "tags": []
   },
   "outputs": [
    {
     "data": {
      "image/png": "[encoded data removed]",
      "text/plain": [
       "<Figure size 432x288 with 1 Axes>"
      ]
     },
     "metadata": {
      "needs_background": "light"
     },
     "output_type": "display_data"
    }
   ],
   "source": [
    "plt.plot(hist.history['accuracy'], label='Train')\n",
    "plt.plot(hist.history['val_accuracy'], label='Val')\n",
    "plt.legend()\n",
    "plt.show()"
   ]
  },
  {
   "cell_type": "code",
   "execution_count": 13,
   "id": "ef26b342",
   "metadata": {
    "execution": {
     "iopub.execute_input": "2023-01-25T13:32:14.854646Z",
     "iopub.status.busy": "2023-01-25T13:32:14.854349Z",
     "iopub.status.idle": "2023-01-25T13:32:16.545133Z",
     "shell.execute_reply": "2023-01-25T13:32:16.543554Z"
    },
    "papermill": {
     "duration": 1.715851,
     "end_time": "2023-01-25T13:32:16.548464",
     "exception": false,
     "start_time": "2023-01-25T13:32:14.832613",
     "status": "completed"
    },
    "tags": []
   },
   "outputs": [
    {
     "name": "stdout",
     "output_type": "stream",
     "text": [
      "313/313 [==============================] - 1s 4ms/step - loss: 1.0571 - accuracy: 0.6756\n"
     ]
    },
    {
     "data": {
      "text/plain": [
       "[1.0570818185806274, 0.675599992275238]"
      ]
     },
     "execution_count": 13,
     "metadata": {},
     "output_type": "execute_result"
    }
   ],
   "source": [
    "model.evaluate(x_test, y_test)"
   ]
  }
 ],
 "metadata": {
  "kernelspec": {
   "display_name": "Python 3",
   "language": "python",
   "name": "python3"
  },
  "language_info": {
   "codemirror_mode": {
    "name": "ipython",
    "version": 3
   },
   "file_extension": ".py",
   "mimetype": "text/x-python",
   "name": "python",
   "nbconvert_exporter": "python",
   "pygments_lexer": "ipython3",
   "version": "3.7.12"
  },
  "papermill": {
   "default_parameters": {},
   "duration": 836.799889,
   "end_time": "2023-01-25T13:32:19.972461",
   "environment_variables": {},
   "exception": null,
   "input_path": "__notebook__.ipynb",
   "output_path": "__notebook__.ipynb",
   "parameters": {},
   "start_time": "2023-01-25T13:18:23.172572",
   "version": "2.3.4"
  }
 },
 "nbformat": 4,
 "nbformat_minor": 5
}
