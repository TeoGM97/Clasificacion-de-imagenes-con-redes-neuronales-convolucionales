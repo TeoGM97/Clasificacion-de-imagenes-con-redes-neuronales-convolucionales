{
 "cells": [
  {
   "cell_type": "code",
   "execution_count": 1,
   "id": "b73f720b",
   "metadata": {
    "execution": {
     "iopub.execute_input": "2023-01-25T12:03:48.663308Z",
     "iopub.status.busy": "2023-01-25T12:03:48.662773Z",
     "iopub.status.idle": "2023-01-25T12:03:55.059744Z",
     "shell.execute_reply": "2023-01-25T12:03:55.058520Z"
    },
    "papermill": {
     "duration": 6.405448,
     "end_time": "2023-01-25T12:03:55.062882",
     "exception": false,
     "start_time": "2023-01-25T12:03:48.657434",
     "status": "completed"
    },
    "tags": []
   },
   "outputs": [],
   "source": [
    "from tensorflow import keras\n",
    "from tensorflow.keras.utils import to_categorical\n",
    "from tensorflow.keras import regularizers\n",
    "from tensorflow.keras.models import Sequential\n",
    "from tensorflow.keras.layers import Conv2D, MaxPooling2D, Flatten,Dense, Dropout, Activation\n",
    "from tensorflow.keras.datasets import cifar10"
   ]
  },
  {
   "cell_type": "code",
   "execution_count": 2,
   "id": "cff6dfaf",
   "metadata": {
    "execution": {
     "iopub.execute_input": "2023-01-25T12:03:55.071330Z",
     "iopub.status.busy": "2023-01-25T12:03:55.070774Z",
     "iopub.status.idle": "2023-01-25T12:03:55.075596Z",
     "shell.execute_reply": "2023-01-25T12:03:55.074455Z"
    },
    "papermill": {
     "duration": 0.01165,
     "end_time": "2023-01-25T12:03:55.078084",
     "exception": false,
     "start_time": "2023-01-25T12:03:55.066434",
     "status": "completed"
    },
    "tags": []
   },
   "outputs": [],
   "source": [
    "import numpy as np\n",
    "import matplotlib.pyplot as plt"
   ]
  },
  {
   "cell_type": "markdown",
   "id": "a824243c",
   "metadata": {
    "papermill": {
     "duration": 0.002649,
     "end_time": "2023-01-25T12:03:55.083747",
     "exception": false,
     "start_time": "2023-01-25T12:03:55.081098",
     "status": "completed"
    },
    "tags": []
   },
   "source": [
    "Vamos a cargar nuestros datos"
   ]
  },
  {
   "cell_type": "code",
   "execution_count": 3,
   "id": "ea5143c4",
   "metadata": {
    "execution": {
     "iopub.execute_input": "2023-01-25T12:03:55.091349Z",
     "iopub.status.busy": "2023-01-25T12:03:55.090580Z",
     "iopub.status.idle": "2023-01-25T12:03:58.895081Z",
     "shell.execute_reply": "2023-01-25T12:03:58.893995Z"
    },
    "papermill": {
     "duration": 3.81104,
     "end_time": "2023-01-25T12:03:58.897694",
     "exception": false,
     "start_time": "2023-01-25T12:03:55.086654",
     "status": "completed"
    },
    "tags": []
   },
   "outputs": [
    {
     "name": "stdout",
     "output_type": "stream",
     "text": [
      "Downloading data from https://www.cs.toronto.edu/~kriz/cifar-10-python.tar.gz\n",
      "170500096/170498071 [==============================] - 2s 0us/step\n",
      "170508288/170498071 [==============================] - 2s 0us/step\n"
     ]
    }
   ],
   "source": [
    "(x_train, y_train), (x_test, y_test) = cifar10.load_data()"
   ]
  },
  {
   "cell_type": "markdown",
   "id": "d14bbac4",
   "metadata": {
    "papermill": {
     "duration": 0.004803,
     "end_time": "2023-01-25T12:03:58.907878",
     "exception": false,
     "start_time": "2023-01-25T12:03:58.903075",
     "status": "completed"
    },
    "tags": []
   },
   "source": [
    "Podemos ver que el dataset tiene multiples imagenes de multiples elementos como vehiculos, animales, etc"
   ]
  },
  {
   "cell_type": "code",
   "execution_count": 4,
   "id": "565c501e",
   "metadata": {
    "collapsed": true,
    "execution": {
     "iopub.execute_input": "2023-01-25T12:03:58.920131Z",
     "iopub.status.busy": "2023-01-25T12:03:58.919127Z",
     "iopub.status.idle": "2023-01-25T12:03:59.169719Z",
     "shell.execute_reply": "2023-01-25T12:03:59.168520Z"
    },
    "jupyter": {
     "outputs_hidden": true
    },
    "papermill": {
     "duration": 0.266751,
     "end_time": "2023-01-25T12:03:59.179614",
     "exception": false,
     "start_time": "2023-01-25T12:03:58.912863",
     "status": "completed"
    },
    "tags": []
   },
   "outputs": [
    {
     "data": {
      "text/plain": [
       "<matplotlib.image.AxesImage at 0x7f1f214bef10>"
      ]
     },
     "execution_count": 4,
     "metadata": {},
     "output_type": "execute_result"
    },
    {
     "data": {
      "image/png": "[encoded data removed]",
      "text/plain": [
       "<Figure size 432x288 with 1 Axes>"
      ]
     },
     "metadata": {
      "needs_background": "light"
     },
     "output_type": "display_data"
    }
   ],
   "source": [
    "plt.imshow(x_train[1])"
   ]
  },
  {
   "cell_type": "markdown",
   "id": "ef059ec1",
   "metadata": {
    "papermill": {
     "duration": 0.009208,
     "end_time": "2023-01-25T12:03:59.215047",
     "exception": false,
     "start_time": "2023-01-25T12:03:59.205839",
     "status": "completed"
    },
    "tags": []
   },
   "source": [
    "Vamos a hacer una limpieza de datos comenzando por reducir la dimension de las imagenes. Sabemos que las matrices van de 0 a 255, entonces vamos a volver los numeros de 0 a 1 asi:"
   ]
  },
  {
   "cell_type": "code",
   "execution_count": 5,
   "id": "3c0b02e0",
   "metadata": {
    "execution": {
     "iopub.execute_input": "2023-01-25T12:03:59.234430Z",
     "iopub.status.busy": "2023-01-25T12:03:59.234053Z",
     "iopub.status.idle": "2023-01-25T12:03:59.539554Z",
     "shell.execute_reply": "2023-01-25T12:03:59.538521Z"
    },
    "papermill": {
     "duration": 0.318807,
     "end_time": "2023-01-25T12:03:59.542766",
     "exception": false,
     "start_time": "2023-01-25T12:03:59.223959",
     "status": "completed"
    },
    "tags": []
   },
   "outputs": [],
   "source": [
    "x_train = x_train.astype('float32')/255\n",
    "x_test = x_test.astype('float32')/255"
   ]
  },
  {
   "cell_type": "markdown",
   "id": "07efb774",
   "metadata": {
    "papermill": {
     "duration": 0.00751,
     "end_time": "2023-01-25T12:03:59.558839",
     "exception": false,
     "start_time": "2023-01-25T12:03:59.551329",
     "status": "completed"
    },
    "tags": []
   },
   "source": [
    "Vamos a reducir tambien o reestructurar los arreglos para los labels."
   ]
  },
  {
   "cell_type": "code",
   "execution_count": 6,
   "id": "02de9801",
   "metadata": {
    "execution": {
     "iopub.execute_input": "2023-01-25T12:03:59.575554Z",
     "iopub.status.busy": "2023-01-25T12:03:59.575142Z",
     "iopub.status.idle": "2023-01-25T12:03:59.588087Z",
     "shell.execute_reply": "2023-01-25T12:03:59.587065Z"
    },
    "papermill": {
     "duration": 0.024625,
     "end_time": "2023-01-25T12:03:59.591114",
     "exception": false,
     "start_time": "2023-01-25T12:03:59.566489",
     "status": "completed"
    },
    "tags": []
   },
   "outputs": [],
   "source": [
    "num_clases = len(np.unique(y_train)) #Hay 10 posibles numeros aca\n",
    "y_train = to_categorical(y_train, num_clases) #To categorical vuelve los valores de clasificacion en un binario\n",
    "y_test = to_categorical(y_test, num_clases) #Arreglo de 10 posibilidades donde marca el 1 donde esta la clase"
   ]
  },
  {
   "cell_type": "markdown",
   "id": "310f0245",
   "metadata": {
    "papermill": {
     "duration": 0.007656,
     "end_time": "2023-01-25T12:03:59.606542",
     "exception": false,
     "start_time": "2023-01-25T12:03:59.598886",
     "status": "completed"
    },
    "tags": []
   },
   "source": [
    "Vamos a dividir nuestro set de entrenamiento en set de validacion, entrenamiento y test"
   ]
  },
  {
   "cell_type": "code",
   "execution_count": 7,
   "id": "c841a214",
   "metadata": {
    "execution": {
     "iopub.execute_input": "2023-01-25T12:03:59.623580Z",
     "iopub.status.busy": "2023-01-25T12:03:59.623145Z",
     "iopub.status.idle": "2023-01-25T12:03:59.634530Z",
     "shell.execute_reply": "2023-01-25T12:03:59.633482Z"
    },
    "papermill": {
     "duration": 0.023116,
     "end_time": "2023-01-25T12:03:59.637461",
     "exception": false,
     "start_time": "2023-01-25T12:03:59.614345",
     "status": "completed"
    },
    "tags": []
   },
   "outputs": [
    {
     "name": "stdout",
     "output_type": "stream",
     "text": [
      "x_train shape: (45000, 32, 32, 3)\n",
      "train: 45000\n",
      "val: 5000\n",
      "test: 10000\n"
     ]
    }
   ],
   "source": [
    "(x_train, x_valid) = x_train[5000:], x_train[:5000]\n",
    "(y_train, y_valid) = y_train[5000:], y_train[:5000]\n",
    "\n",
    "print('x_train shape:', x_train.shape)\n",
    "\n",
    "print('train:', x_train.shape[0]) #Usara 45000 imagenes\n",
    "print('val:', x_valid.shape[0]) #Usara 5000 imagenes\n",
    "print('test:', x_test.shape[0]) #Usara 10000 imagenes"
   ]
  }
 ],
 "metadata": {
  "kernelspec": {
   "display_name": "Python 3",
   "language": "python",
   "name": "python3"
  },
  "language_info": {
   "codemirror_mode": {
    "name": "ipython",
    "version": 3
   },
   "file_extension": ".py",
   "mimetype": "text/x-python",
   "name": "python",
   "nbconvert_exporter": "python",
   "pygments_lexer": "ipython3",
   "version": "3.7.12"
  },
  "papermill": {
   "default_parameters": {},
   "duration": 22.540587,
   "end_time": "2023-01-25T12:04:02.428475",
   "environment_variables": {},
   "exception": null,
   "input_path": "__notebook__.ipynb",
   "output_path": "__notebook__.ipynb",
   "parameters": {},
   "start_time": "2023-01-25T12:03:39.887888",
   "version": "2.3.4"
  }
 },
 "nbformat": 4,
 "nbformat_minor": 5
}
