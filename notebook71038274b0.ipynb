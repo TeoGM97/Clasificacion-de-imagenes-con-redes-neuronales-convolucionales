{
 "cells": [
  {
   "cell_type": "code",
   "execution_count": 1,
   "id": "13b73094",
   "metadata": {
    "execution": {
     "iopub.execute_input": "2023-01-25T12:40:19.449586Z",
     "iopub.status.busy": "2023-01-25T12:40:19.449005Z",
     "iopub.status.idle": "2023-01-25T12:40:28.799436Z",
     "shell.execute_reply": "2023-01-25T12:40:28.798456Z"
    },
    "papermill": {
     "duration": 9.360971,
     "end_time": "2023-01-25T12:40:28.801917",
     "exception": false,
     "start_time": "2023-01-25T12:40:19.440946",
     "status": "completed"
    },
    "tags": []
   },
   "outputs": [],
   "source": [
    "from tensorflow import keras\n",
    "from tensorflow.keras.utils import to_categorical\n",
    "from tensorflow.keras import regularizers\n",
    "from tensorflow.keras.models import Sequential\n",
    "from tensorflow.keras.layers import Conv2D, MaxPooling2D, Flatten,Dense, Dropout, Activation\n",
    "from tensorflow.keras.datasets import cifar10"
   ]
  },
  {
   "cell_type": "code",
   "execution_count": 2,
   "id": "1a354cc8",
   "metadata": {
    "execution": {
     "iopub.execute_input": "2023-01-25T12:40:28.810305Z",
     "iopub.status.busy": "2023-01-25T12:40:28.809825Z",
     "iopub.status.idle": "2023-01-25T12:40:28.814618Z",
     "shell.execute_reply": "2023-01-25T12:40:28.813494Z"
    },
    "papermill": {
     "duration": 0.011366,
     "end_time": "2023-01-25T12:40:28.816858",
     "exception": false,
     "start_time": "2023-01-25T12:40:28.805492",
     "status": "completed"
    },
    "tags": []
   },
   "outputs": [],
   "source": [
    "import numpy as np\n",
    "import matplotlib.pyplot as plt"
   ]
  },
  {
   "cell_type": "markdown",
   "id": "578cdc6a",
   "metadata": {
    "papermill": {
     "duration": 0.003342,
     "end_time": "2023-01-25T12:40:28.823920",
     "exception": false,
     "start_time": "2023-01-25T12:40:28.820578",
     "status": "completed"
    },
    "tags": []
   },
   "source": [
    "Vamos a cargar nuestros datos"
   ]
  },
  {
   "cell_type": "code",
   "execution_count": 3,
   "id": "6d88f479",
   "metadata": {
    "execution": {
     "iopub.execute_input": "2023-01-25T12:40:28.832243Z",
     "iopub.status.busy": "2023-01-25T12:40:28.831364Z",
     "iopub.status.idle": "2023-01-25T12:40:33.791965Z",
     "shell.execute_reply": "2023-01-25T12:40:33.790783Z"
    },
    "papermill": {
     "duration": 4.967594,
     "end_time": "2023-01-25T12:40:33.794715",
     "exception": false,
     "start_time": "2023-01-25T12:40:28.827121",
     "status": "completed"
    },
    "tags": []
   },
   "outputs": [
    {
     "name": "stdout",
     "output_type": "stream",
     "text": [
      "Downloading data from https://www.cs.toronto.edu/~kriz/cifar-10-python.tar.gz\n",
      "170500096/170498071 [==============================] - 3s 0us/step\n",
      "170508288/170498071 [==============================] - 3s 0us/step\n"
     ]
    }
   ],
   "source": [
    "(x_train, y_train), (x_test, y_test) = cifar10.load_data()"
   ]
  },
  {
   "cell_type": "markdown",
   "id": "c5f5a5ea",
   "metadata": {
    "papermill": {
     "duration": 0.006235,
     "end_time": "2023-01-25T12:40:33.808027",
     "exception": false,
     "start_time": "2023-01-25T12:40:33.801792",
     "status": "completed"
    },
    "tags": []
   },
   "source": [
    "Podemos ver que el dataset tiene multiples imagenes de multiples elementos como vehiculos, animales, etc"
   ]
  },
  {
   "cell_type": "code",
   "execution_count": 4,
   "id": "f7ff4a0b",
   "metadata": {
    "execution": {
     "iopub.execute_input": "2023-01-25T12:40:33.822860Z",
     "iopub.status.busy": "2023-01-25T12:40:33.822518Z",
     "iopub.status.idle": "2023-01-25T12:40:34.234656Z",
     "shell.execute_reply": "2023-01-25T12:40:34.233808Z"
    },
    "papermill": {
     "duration": 0.421933,
     "end_time": "2023-01-25T12:40:34.236665",
     "exception": false,
     "start_time": "2023-01-25T12:40:33.814732",
     "status": "completed"
    },
    "tags": []
   },
   "outputs": [
    {
     "data": {
      "image/png": "[encoded data removed]",
      "text/plain": [
       "<Figure size 432x288 with 4 Axes>"
      ]
     },
     "metadata": {
      "needs_background": "light"
     },
     "output_type": "display_data"
    }
   ],
   "source": [
    "fig, axs = plt.subplots(2, 2) #Crea una matriz 2x2 para los subplots\n",
    "axs[0,0].imshow(x_train[1])\n",
    "axs[0,1].imshow(x_train[2])\n",
    "axs[1,0].imshow(x_train[3])\n",
    "axs[1,1].imshow(x_train[4])\n",
    "plt.show()"
   ]
  },
  {
   "cell_type": "markdown",
   "id": "deedfefe",
   "metadata": {
    "papermill": {
     "duration": 0.006811,
     "end_time": "2023-01-25T12:40:34.250889",
     "exception": false,
     "start_time": "2023-01-25T12:40:34.244078",
     "status": "completed"
    },
    "tags": []
   },
   "source": [
    "Vamos a hacer una limpieza de datos comenzando por reducir la dimension de las imagenes. Sabemos que las matrices van de 0 a 255, entonces vamos a volver los numeros de 0 a 1 asi:"
   ]
  },
  {
   "cell_type": "code",
   "execution_count": 5,
   "id": "fa1da69a",
   "metadata": {
    "execution": {
     "iopub.execute_input": "2023-01-25T12:40:34.266228Z",
     "iopub.status.busy": "2023-01-25T12:40:34.265372Z",
     "iopub.status.idle": "2023-01-25T12:40:34.519805Z",
     "shell.execute_reply": "2023-01-25T12:40:34.518659Z"
    },
    "papermill": {
     "duration": 0.264975,
     "end_time": "2023-01-25T12:40:34.522545",
     "exception": false,
     "start_time": "2023-01-25T12:40:34.257570",
     "status": "completed"
    },
    "tags": []
   },
   "outputs": [],
   "source": [
    "x_train = x_train.astype('float32')/255  #Quedaran imagenes de 32x32 en 3 distintas capas\n",
    "x_test = x_test.astype('float32')/255"
   ]
  },
  {
   "cell_type": "markdown",
   "id": "b31329d5",
   "metadata": {
    "papermill": {
     "duration": 0.007075,
     "end_time": "2023-01-25T12:40:34.537184",
     "exception": false,
     "start_time": "2023-01-25T12:40:34.530109",
     "status": "completed"
    },
    "tags": []
   },
   "source": [
    "Vamos a reducir tambien o reestructurar los arreglos para los labels."
   ]
  },
  {
   "cell_type": "code",
   "execution_count": 6,
   "id": "29365b5e",
   "metadata": {
    "execution": {
     "iopub.execute_input": "2023-01-25T12:40:34.554031Z",
     "iopub.status.busy": "2023-01-25T12:40:34.552347Z",
     "iopub.status.idle": "2023-01-25T12:40:34.562003Z",
     "shell.execute_reply": "2023-01-25T12:40:34.561098Z"
    },
    "papermill": {
     "duration": 0.02008,
     "end_time": "2023-01-25T12:40:34.564246",
     "exception": false,
     "start_time": "2023-01-25T12:40:34.544166",
     "status": "completed"
    },
    "tags": []
   },
   "outputs": [],
   "source": [
    "num_clases = len(np.unique(y_train)) #Hay 10 posibles numeros aca\n",
    "y_train = to_categorical(y_train, num_clases) #To categorical vuelve los valores de clasificacion en un binario\n",
    "y_test = to_categorical(y_test, num_clases) #Arreglo de 10 posibilidades donde marca el 1 donde esta la clase"
   ]
  },
  {
   "cell_type": "markdown",
   "id": "ef82c7bd",
   "metadata": {
    "papermill": {
     "duration": 0.00689,
     "end_time": "2023-01-25T12:40:34.578196",
     "exception": false,
     "start_time": "2023-01-25T12:40:34.571306",
     "status": "completed"
    },
    "tags": []
   },
   "source": [
    "Vamos a dividir nuestro set de entrenamiento en set de validacion, entrenamiento y test"
   ]
  },
  {
   "cell_type": "code",
   "execution_count": 7,
   "id": "6a0ada59",
   "metadata": {
    "execution": {
     "iopub.execute_input": "2023-01-25T12:40:34.594205Z",
     "iopub.status.busy": "2023-01-25T12:40:34.592695Z",
     "iopub.status.idle": "2023-01-25T12:40:34.599983Z",
     "shell.execute_reply": "2023-01-25T12:40:34.598958Z"
    },
    "papermill": {
     "duration": 0.017754,
     "end_time": "2023-01-25T12:40:34.602657",
     "exception": false,
     "start_time": "2023-01-25T12:40:34.584903",
     "status": "completed"
    },
    "tags": []
   },
   "outputs": [
    {
     "name": "stdout",
     "output_type": "stream",
     "text": [
      "x_train shape: (45000, 32, 32, 3)\n",
      "train: 45000\n",
      "val: 5000\n",
      "test: 10000\n"
     ]
    }
   ],
   "source": [
    "(x_train, x_valid) = x_train[5000:], x_train[:5000]\n",
    "(y_train, y_valid) = y_train[5000:], y_train[:5000]\n",
    "\n",
    "print('x_train shape:', x_train.shape)\n",
    "\n",
    "print('train:', x_train.shape[0]) #Usara 45000 imagenes\n",
    "print('val:', x_valid.shape[0]) #Usara 5000 imagenes\n",
    "print('test:', x_test.shape[0]) #Usara 10000 imagenes"
   ]
  },
  {
   "cell_type": "markdown",
   "id": "d37b24f1",
   "metadata": {
    "papermill": {
     "duration": 0.006855,
     "end_time": "2023-01-25T12:40:34.617439",
     "exception": false,
     "start_time": "2023-01-25T12:40:34.610584",
     "status": "completed"
    },
    "tags": []
   },
   "source": [
    "Creacion de modelo"
   ]
  },
  {
   "cell_type": "code",
   "execution_count": 8,
   "id": "5bec8985",
   "metadata": {
    "execution": {
     "iopub.execute_input": "2023-01-25T12:40:34.634005Z",
     "iopub.status.busy": "2023-01-25T12:40:34.633157Z",
     "iopub.status.idle": "2023-01-25T12:40:34.638034Z",
     "shell.execute_reply": "2023-01-25T12:40:34.637119Z"
    },
    "papermill": {
     "duration": 0.014844,
     "end_time": "2023-01-25T12:40:34.640233",
     "exception": false,
     "start_time": "2023-01-25T12:40:34.625389",
     "status": "completed"
    },
    "tags": []
   },
   "outputs": [],
   "source": [
    "base_filtros = 32\n",
    "w_regularizer = 1e-4"
   ]
  },
  {
   "cell_type": "code",
   "execution_count": 9,
   "id": "31d3aa73",
   "metadata": {
    "execution": {
     "iopub.execute_input": "2023-01-25T12:40:34.654961Z",
     "iopub.status.busy": "2023-01-25T12:40:34.654684Z",
     "iopub.status.idle": "2023-01-25T12:40:39.799782Z",
     "shell.execute_reply": "2023-01-25T12:40:39.797774Z"
    },
    "papermill": {
     "duration": 5.155127,
     "end_time": "2023-01-25T12:40:39.801928",
     "exception": false,
     "start_time": "2023-01-25T12:40:34.646801",
     "status": "completed"
    },
    "tags": []
   },
   "outputs": [
    {
     "name": "stderr",
     "output_type": "stream",
     "text": [
      "2023-01-25 12:40:34.946530: I tensorflow/stream_executor/cuda/cuda_gpu_executor.cc:937] successful NUMA node read from SysFS had negative value (-1), but there must be at least one NUMA node, so returning NUMA node zero\n",
      "2023-01-25 12:40:34.947500: I tensorflow/stream_executor/cuda/cuda_gpu_executor.cc:937] successful NUMA node read from SysFS had negative value (-1), but there must be at least one NUMA node, so returning NUMA node zero\n",
      "2023-01-25 12:40:35.140892: I tensorflow/stream_executor/cuda/cuda_gpu_executor.cc:937] successful NUMA node read from SysFS had negative value (-1), but there must be at least one NUMA node, so returning NUMA node zero\n",
      "2023-01-25 12:40:35.141662: I tensorflow/stream_executor/cuda/cuda_gpu_executor.cc:937] successful NUMA node read from SysFS had negative value (-1), but there must be at least one NUMA node, so returning NUMA node zero\n",
      "2023-01-25 12:40:35.142417: I tensorflow/stream_executor/cuda/cuda_gpu_executor.cc:937] successful NUMA node read from SysFS had negative value (-1), but there must be at least one NUMA node, so returning NUMA node zero\n",
      "2023-01-25 12:40:35.143151: I tensorflow/stream_executor/cuda/cuda_gpu_executor.cc:937] successful NUMA node read from SysFS had negative value (-1), but there must be at least one NUMA node, so returning NUMA node zero\n",
      "2023-01-25 12:40:35.146657: I tensorflow/core/platform/cpu_feature_guard.cc:142] This TensorFlow binary is optimized with oneAPI Deep Neural Network Library (oneDNN) to use the following CPU instructions in performance-critical operations:  AVX2 AVX512F FMA\n",
      "To enable them in other operations, rebuild TensorFlow with the appropriate compiler flags.\n",
      "2023-01-25 12:40:35.402054: I tensorflow/stream_executor/cuda/cuda_gpu_executor.cc:937] successful NUMA node read from SysFS had negative value (-1), but there must be at least one NUMA node, so returning NUMA node zero\n",
      "2023-01-25 12:40:35.402857: I tensorflow/stream_executor/cuda/cuda_gpu_executor.cc:937] successful NUMA node read from SysFS had negative value (-1), but there must be at least one NUMA node, so returning NUMA node zero\n",
      "2023-01-25 12:40:35.403573: I tensorflow/stream_executor/cuda/cuda_gpu_executor.cc:937] successful NUMA node read from SysFS had negative value (-1), but there must be at least one NUMA node, so returning NUMA node zero\n",
      "2023-01-25 12:40:35.404429: I tensorflow/stream_executor/cuda/cuda_gpu_executor.cc:937] successful NUMA node read from SysFS had negative value (-1), but there must be at least one NUMA node, so returning NUMA node zero\n",
      "2023-01-25 12:40:35.405214: I tensorflow/stream_executor/cuda/cuda_gpu_executor.cc:937] successful NUMA node read from SysFS had negative value (-1), but there must be at least one NUMA node, so returning NUMA node zero\n",
      "2023-01-25 12:40:35.405977: I tensorflow/stream_executor/cuda/cuda_gpu_executor.cc:937] successful NUMA node read from SysFS had negative value (-1), but there must be at least one NUMA node, so returning NUMA node zero\n",
      "2023-01-25 12:40:39.299854: I tensorflow/stream_executor/cuda/cuda_gpu_executor.cc:937] successful NUMA node read from SysFS had negative value (-1), but there must be at least one NUMA node, so returning NUMA node zero\n",
      "2023-01-25 12:40:39.300777: I tensorflow/stream_executor/cuda/cuda_gpu_executor.cc:937] successful NUMA node read from SysFS had negative value (-1), but there must be at least one NUMA node, so returning NUMA node zero\n",
      "2023-01-25 12:40:39.301496: I tensorflow/stream_executor/cuda/cuda_gpu_executor.cc:937] successful NUMA node read from SysFS had negative value (-1), but there must be at least one NUMA node, so returning NUMA node zero\n",
      "2023-01-25 12:40:39.302193: I tensorflow/stream_executor/cuda/cuda_gpu_executor.cc:937] successful NUMA node read from SysFS had negative value (-1), but there must be at least one NUMA node, so returning NUMA node zero\n",
      "2023-01-25 12:40:39.302876: I tensorflow/stream_executor/cuda/cuda_gpu_executor.cc:937] successful NUMA node read from SysFS had negative value (-1), but there must be at least one NUMA node, so returning NUMA node zero\n",
      "2023-01-25 12:40:39.303564: I tensorflow/core/common_runtime/gpu/gpu_device.cc:1510] Created device /job:localhost/replica:0/task:0/device:GPU:0 with 13789 MB memory:  -> device: 0, name: Tesla T4, pci bus id: 0000:00:04.0, compute capability: 7.5\n",
      "2023-01-25 12:40:39.307662: I tensorflow/stream_executor/cuda/cuda_gpu_executor.cc:937] successful NUMA node read from SysFS had negative value (-1), but there must be at least one NUMA node, so returning NUMA node zero\n",
      "2023-01-25 12:40:39.308555: I tensorflow/core/common_runtime/gpu/gpu_device.cc:1510] Created device /job:localhost/replica:0/task:0/device:GPU:1 with 13789 MB memory:  -> device: 1, name: Tesla T4, pci bus id: 0000:00:05.0, compute capability: 7.5\n"
     ]
    },
    {
     "name": "stdout",
     "output_type": "stream",
     "text": [
      "Model: \"sequential\"\n",
      "_________________________________________________________________\n",
      "Layer (type)                 Output Shape              Param #   \n",
      "=================================================================\n",
      "conv2d (Conv2D)              (None, 32, 32, 32)        896       \n",
      "_________________________________________________________________\n",
      "activation (Activation)      (None, 32, 32, 32)        0         \n",
      "_________________________________________________________________\n",
      "conv2d_1 (Conv2D)            (None, 32, 32, 32)        9248      \n",
      "_________________________________________________________________\n",
      "activation_1 (Activation)    (None, 32, 32, 32)        0         \n",
      "_________________________________________________________________\n",
      "max_pooling2d (MaxPooling2D) (None, 16, 16, 32)        0         \n",
      "_________________________________________________________________\n",
      "dropout (Dropout)            (None, 16, 16, 32)        0         \n",
      "_________________________________________________________________\n",
      "conv2d_2 (Conv2D)            (None, 16, 16, 64)        18496     \n",
      "_________________________________________________________________\n",
      "activation_2 (Activation)    (None, 16, 16, 64)        0         \n",
      "_________________________________________________________________\n",
      "dropout_1 (Dropout)          (None, 16, 16, 64)        0         \n",
      "_________________________________________________________________\n",
      "conv2d_3 (Conv2D)            (None, 16, 16, 64)        36928     \n",
      "_________________________________________________________________\n",
      "activation_3 (Activation)    (None, 16, 16, 64)        0         \n",
      "_________________________________________________________________\n",
      "max_pooling2d_1 (MaxPooling2 (None, 8, 8, 64)          0         \n",
      "_________________________________________________________________\n",
      "dropout_2 (Dropout)          (None, 8, 8, 64)          0         \n",
      "_________________________________________________________________\n",
      "conv2d_4 (Conv2D)            (None, 8, 8, 128)         73856     \n",
      "_________________________________________________________________\n",
      "activation_4 (Activation)    (None, 8, 8, 128)         0         \n",
      "_________________________________________________________________\n",
      "conv2d_5 (Conv2D)            (None, 8, 8, 128)         147584    \n",
      "_________________________________________________________________\n",
      "activation_5 (Activation)    (None, 8, 8, 128)         0         \n",
      "_________________________________________________________________\n",
      "max_pooling2d_2 (MaxPooling2 (None, 4, 4, 128)         0         \n",
      "_________________________________________________________________\n",
      "dropout_3 (Dropout)          (None, 4, 4, 128)         0         \n",
      "_________________________________________________________________\n",
      "flatten (Flatten)            (None, 2048)              0         \n",
      "_________________________________________________________________\n",
      "dense (Dense)                (None, 10)                20490     \n",
      "=================================================================\n",
      "Total params: 307,498\n",
      "Trainable params: 307,498\n",
      "Non-trainable params: 0\n",
      "_________________________________________________________________\n"
     ]
    }
   ],
   "source": [
    "model = Sequential()\n",
    "#Vamos a stakear capas\n",
    "\n",
    "##CONVOLUCION 1\n",
    "#en el parentesis hay: (Conv2D(#filtros, tamano de kernel, padding, kernel regularizer))\n",
    "model.add(Conv2D(base_filtros, (3,3), padding='same', kernel_regularizer=regularizers.l2(w_regularizer), input_shape=x_train.shape[1:])) \n",
    "#capa de activacion Relu\n",
    "model.add(Activation('relu'))\n",
    "\n",
    "##CONVOLUCION 2\n",
    "#No necesita definir entrada porque esta se ve definida por la capa anterior\n",
    "model.add(Conv2D(base_filtros, (3,3), padding='same', kernel_regularizer=regularizers.l2(w_regularizer)))\n",
    "#capa de activacion Relu\n",
    "model.add(Activation('relu'))\n",
    "#capa de maxpooling (Se hara cada 2 capas) para reducir la complejidad del modelo\n",
    "model.add(MaxPooling2D(pool_size=(2,2))) #El pool size o kernel sera de 2x2\n",
    "#capa de dropout para vigilar el overfiting\n",
    "model.add(Dropout(0.2))\n",
    "\n",
    "##CONVOLUCION 3\n",
    "#Se hara mas profunda. El doble de filtros\n",
    "model.add(Conv2D(2*base_filtros, (3,3), padding='same', kernel_regularizer=regularizers.l2(w_regularizer)))\n",
    "#capa de activacion Relu\n",
    "model.add(Activation('relu'))\n",
    "#capa de dropout\n",
    "model.add(Dropout(0.2))\n",
    "\n",
    "##CONVOLUCION 4\n",
    "model.add(Conv2D(2*base_filtros, (3,3), padding='same', kernel_regularizer=regularizers.l2(w_regularizer)))\n",
    "#capa de activacion Relu\n",
    "model.add(Activation('relu'))\n",
    "#capa de maxpooling\n",
    "model.add(MaxPooling2D(pool_size=(2,2)))\n",
    "#capa de dropout\n",
    "model.add(Dropout(0.3))\n",
    "\n",
    "##CONVOLUCION 5\n",
    "#Aun mas profunda. 4 veces mas filtros\n",
    "model.add(Conv2D(4*base_filtros, (3,3), padding='same', kernel_regularizer=regularizers.l2(w_regularizer)))\n",
    "#capa de activacion Relu\n",
    "model.add(Activation('relu'))\n",
    "\n",
    "##CONVOLUCION 6\n",
    "model.add(Conv2D(4*base_filtros, (3,3), padding='same', kernel_regularizer=regularizers.l2(w_regularizer)))\n",
    "#capa de activacion Relu\n",
    "model.add(Activation('relu'))\n",
    "#capa de maxpooling\n",
    "model.add(MaxPooling2D(pool_size=(2,2)))\n",
    "#capa de dropout\n",
    "model.add(Dropout(0.4))\n",
    "\n",
    "##CLASIFICACION Y FLATTEN\n",
    "#capa flatten para agregar todo el resultado de la ultima convolucion se va a llevar a una unica dimension\n",
    "model.add(Flatten())\n",
    "#capa fully conect densa para la clasificacion de las imagenes\n",
    "model.add(Dense(num_clases, activation='softmax'))\n",
    "\n",
    "model.summary()\n"
   ]
  }
 ],
 "metadata": {
  "kernelspec": {
   "display_name": "Python 3",
   "language": "python",
   "name": "python3"
  },
  "language_info": {
   "codemirror_mode": {
    "name": "ipython",
    "version": 3
   },
   "file_extension": ".py",
   "mimetype": "text/x-python",
   "name": "python",
   "nbconvert_exporter": "python",
   "pygments_lexer": "ipython3",
   "version": "3.7.12"
  },
  "papermill": {
   "default_parameters": {},
   "duration": 33.944944,
   "end_time": "2023-01-25T12:40:43.144020",
   "environment_variables": {},
   "exception": null,
   "input_path": "__notebook__.ipynb",
   "output_path": "__notebook__.ipynb",
   "parameters": {},
   "start_time": "2023-01-25T12:40:09.199076",
   "version": "2.3.4"
  }
 },
 "nbformat": 4,
 "nbformat_minor": 5
}
