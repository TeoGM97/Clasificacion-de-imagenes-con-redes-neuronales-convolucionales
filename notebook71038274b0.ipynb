{
 "cells": [
  {
   "cell_type": "code",
   "execution_count": 1,
   "id": "29313ea8",
   "metadata": {
    "execution": {
     "iopub.execute_input": "2023-02-01T11:30:20.733652Z",
     "iopub.status.busy": "2023-02-01T11:30:20.733183Z",
     "iopub.status.idle": "2023-02-01T11:30:26.600000Z",
     "shell.execute_reply": "2023-02-01T11:30:26.599022Z"
    },
    "papermill": {
     "duration": 5.878323,
     "end_time": "2023-02-01T11:30:26.602443",
     "exception": false,
     "start_time": "2023-02-01T11:30:20.724120",
     "status": "completed"
    },
    "tags": []
   },
   "outputs": [],
   "source": [
    "from tensorflow import keras\n",
    "from tensorflow.keras.utils import to_categorical\n",
    "from tensorflow.keras import regularizers\n",
    "from tensorflow.keras.models import Sequential\n",
    "from tensorflow.keras.layers import Conv2D, MaxPooling2D, Flatten,Dense, Dropout, Activation, BatchNormalization\n",
    "from tensorflow.keras.datasets import cifar10\n",
    "from tensorflow.keras.preprocessing.image import ImageDataGenerator\n",
    "from tensorflow.keras.callbacks import ModelCheckpoint"
   ]
  },
  {
   "cell_type": "code",
   "execution_count": 2,
   "id": "e6ccc58e",
   "metadata": {
    "execution": {
     "iopub.execute_input": "2023-02-01T11:30:26.617847Z",
     "iopub.status.busy": "2023-02-01T11:30:26.616778Z",
     "iopub.status.idle": "2023-02-01T11:30:26.621417Z",
     "shell.execute_reply": "2023-02-01T11:30:26.620515Z"
    },
    "papermill": {
     "duration": 0.013953,
     "end_time": "2023-02-01T11:30:26.623448",
     "exception": false,
     "start_time": "2023-02-01T11:30:26.609495",
     "status": "completed"
    },
    "tags": []
   },
   "outputs": [],
   "source": [
    "import numpy as np\n",
    "import matplotlib.pyplot as plt"
   ]
  },
  {
   "cell_type": "markdown",
   "id": "c5c86b60",
   "metadata": {
    "papermill": {
     "duration": 0.006328,
     "end_time": "2023-02-01T11:30:26.636173",
     "exception": false,
     "start_time": "2023-02-01T11:30:26.629845",
     "status": "completed"
    },
    "tags": []
   },
   "source": [
    "Vamos a cargar nuestros datos"
   ]
  },
  {
   "cell_type": "code",
   "execution_count": 3,
   "id": "c69d038c",
   "metadata": {
    "execution": {
     "iopub.execute_input": "2023-02-01T11:30:26.651149Z",
     "iopub.status.busy": "2023-02-01T11:30:26.650419Z",
     "iopub.status.idle": "2023-02-01T11:30:30.399810Z",
     "shell.execute_reply": "2023-02-01T11:30:30.398661Z"
    },
    "papermill": {
     "duration": 3.760611,
     "end_time": "2023-02-01T11:30:30.403534",
     "exception": false,
     "start_time": "2023-02-01T11:30:26.642923",
     "status": "completed"
    },
    "tags": []
   },
   "outputs": [
    {
     "name": "stdout",
     "output_type": "stream",
     "text": [
      "Downloading data from https://www.cs.toronto.edu/~kriz/cifar-10-python.tar.gz\n",
      "170500096/170498071 [==============================] - 2s 0us/step\n",
      "170508288/170498071 [==============================] - 2s 0us/step\n"
     ]
    }
   ],
   "source": [
    "(x_train, y_train), (x_test, y_test) = cifar10.load_data()"
   ]
  },
  {
   "cell_type": "markdown",
   "id": "f47a0e52",
   "metadata": {
    "papermill": {
     "duration": 0.007914,
     "end_time": "2023-02-01T11:30:30.420489",
     "exception": false,
     "start_time": "2023-02-01T11:30:30.412575",
     "status": "completed"
    },
    "tags": []
   },
   "source": [
    "Podemos ver que el dataset tiene multiples imagenes de multiples elementos como vehiculos, animales, etc"
   ]
  },
  {
   "cell_type": "code",
   "execution_count": 4,
   "id": "01115e44",
   "metadata": {
    "execution": {
     "iopub.execute_input": "2023-02-01T11:30:30.438880Z",
     "iopub.status.busy": "2023-02-01T11:30:30.438268Z",
     "iopub.status.idle": "2023-02-01T11:30:30.809862Z",
     "shell.execute_reply": "2023-02-01T11:30:30.808928Z"
    },
    "papermill": {
     "duration": 0.385352,
     "end_time": "2023-02-01T11:30:30.813809",
     "exception": false,
     "start_time": "2023-02-01T11:30:30.428457",
     "status": "completed"
    },
    "tags": []
   },
   "outputs": [
    {
     "data": {
      "image/png": "[encoded data removed]",
      "text/plain": [
       "<Figure size 432x288 with 4 Axes>"
      ]
     },
     "metadata": {
      "needs_background": "light"
     },
     "output_type": "display_data"
    }
   ],
   "source": [
    "fig, axs = plt.subplots(2, 2) #Crea una matriz 2x2 para los subplots\n",
    "axs[0,0].imshow(x_train[1])\n",
    "axs[0,1].imshow(x_train[2])\n",
    "axs[1,0].imshow(x_train[3])\n",
    "axs[1,1].imshow(x_train[4])\n",
    "plt.show()"
   ]
  },
  {
   "cell_type": "markdown",
   "id": "3f2ca326",
   "metadata": {
    "papermill": {
     "duration": 0.010766,
     "end_time": "2023-02-01T11:30:30.847928",
     "exception": false,
     "start_time": "2023-02-01T11:30:30.837162",
     "status": "completed"
    },
    "tags": []
   },
   "source": [
    "Vamos a hacer una limpieza de datos comenzando por reducir la dimension de las imagenes. Sabemos que las matrices van de 0 a 255, entonces vamos a volver los numeros de 0 a 1 asi: Se divide al final por 255:\n",
    "x_train = x_train.astype('float32')/255 al igual que x_test.\n",
    "\n",
    "Sin embargo, para esta nueva version no se usara"
   ]
  },
  {
   "cell_type": "code",
   "execution_count": 5,
   "id": "26e02705",
   "metadata": {
    "execution": {
     "iopub.execute_input": "2023-02-01T11:30:30.869557Z",
     "iopub.status.busy": "2023-02-01T11:30:30.868597Z",
     "iopub.status.idle": "2023-02-01T11:30:31.058456Z",
     "shell.execute_reply": "2023-02-01T11:30:31.057478Z"
    },
    "papermill": {
     "duration": 0.20195,
     "end_time": "2023-02-01T11:30:31.060868",
     "exception": false,
     "start_time": "2023-02-01T11:30:30.858918",
     "status": "completed"
    },
    "tags": []
   },
   "outputs": [],
   "source": [
    "x_train = x_train.astype('float32')  #Quedaran imagenes de 32x32 en 3 distintas capas\n",
    "x_test = x_test.astype('float32')"
   ]
  },
  {
   "cell_type": "markdown",
   "id": "28d37ff6",
   "metadata": {
    "papermill": {
     "duration": 0.008223,
     "end_time": "2023-02-01T11:30:31.077852",
     "exception": false,
     "start_time": "2023-02-01T11:30:31.069629",
     "status": "completed"
    },
    "tags": []
   },
   "source": [
    "Vamos a reducir tambien o reestructurar los arreglos para los labels."
   ]
  },
  {
   "cell_type": "code",
   "execution_count": 6,
   "id": "d0843b90",
   "metadata": {
    "execution": {
     "iopub.execute_input": "2023-02-01T11:30:31.096072Z",
     "iopub.status.busy": "2023-02-01T11:30:31.095776Z",
     "iopub.status.idle": "2023-02-01T11:30:31.103712Z",
     "shell.execute_reply": "2023-02-01T11:30:31.102876Z"
    },
    "papermill": {
     "duration": 0.019495,
     "end_time": "2023-02-01T11:30:31.105751",
     "exception": false,
     "start_time": "2023-02-01T11:30:31.086256",
     "status": "completed"
    },
    "tags": []
   },
   "outputs": [],
   "source": [
    "num_clases = len(np.unique(y_train)) #Hay 10 posibles numeros aca\n",
    "y_train = to_categorical(y_train, num_clases) #To categorical vuelve los valores de clasificacion en un binario\n",
    "y_test = to_categorical(y_test, num_clases) #Arreglo de 10 posibilidades donde marca el 1 donde esta la clase"
   ]
  },
  {
   "cell_type": "code",
   "execution_count": 7,
   "id": "06cd8cc4",
   "metadata": {
    "execution": {
     "iopub.execute_input": "2023-02-01T11:30:31.123956Z",
     "iopub.status.busy": "2023-02-01T11:30:31.123185Z",
     "iopub.status.idle": "2023-02-01T11:30:31.130094Z",
     "shell.execute_reply": "2023-02-01T11:30:31.129062Z"
    },
    "papermill": {
     "duration": 0.017973,
     "end_time": "2023-02-01T11:30:31.132070",
     "exception": false,
     "start_time": "2023-02-01T11:30:31.114097",
     "status": "completed"
    },
    "tags": []
   },
   "outputs": [
    {
     "data": {
      "text/plain": [
       "array([0., 0., 0., 0., 0., 0., 1., 0., 0., 0.], dtype=float32)"
      ]
     },
     "execution_count": 7,
     "metadata": {},
     "output_type": "execute_result"
    }
   ],
   "source": [
    "y_train[0]"
   ]
  },
  {
   "cell_type": "markdown",
   "id": "06023033",
   "metadata": {
    "papermill": {
     "duration": 0.008239,
     "end_time": "2023-02-01T11:30:31.149199",
     "exception": false,
     "start_time": "2023-02-01T11:30:31.140960",
     "status": "completed"
    },
    "tags": []
   },
   "source": [
    "### Normalizar ###\n",
    "\n",
    "Vamos a sacar la media, la desviacion estandar. Luego a la data de entrenamiento le retamos la media sobre la desviacion estandar. Todos los datos quedaran entre 0 y 1\n",
    "\n"
   ]
  },
  {
   "cell_type": "code",
   "execution_count": 8,
   "id": "e49cd3fc",
   "metadata": {
    "execution": {
     "iopub.execute_input": "2023-02-01T11:30:31.167636Z",
     "iopub.status.busy": "2023-02-01T11:30:31.166885Z",
     "iopub.status.idle": "2023-02-01T11:30:31.568948Z",
     "shell.execute_reply": "2023-02-01T11:30:31.567948Z"
    },
    "papermill": {
     "duration": 0.413763,
     "end_time": "2023-02-01T11:30:31.571446",
     "exception": false,
     "start_time": "2023-02-01T11:30:31.157683",
     "status": "completed"
    },
    "tags": []
   },
   "outputs": [],
   "source": [
    "mean = np.mean(x_train) #Media\n",
    "std = np.std(x_train) #Desviacion Estandar"
   ]
  },
  {
   "cell_type": "markdown",
   "id": "0e51263a",
   "metadata": {
    "papermill": {
     "duration": 0.008471,
     "end_time": "2023-02-01T11:30:31.588744",
     "exception": false,
     "start_time": "2023-02-01T11:30:31.580273",
     "status": "completed"
    },
    "tags": []
   },
   "source": [
    "Se aplicara tambien sobre x test para que queden igualmente normalizados, pero siempre basandonos en x train.\n",
    "El modelo no debe conocer nunca los datos de prueba en su fase de entrenamiento"
   ]
  },
  {
   "cell_type": "code",
   "execution_count": 9,
   "id": "3f679733",
   "metadata": {
    "execution": {
     "iopub.execute_input": "2023-02-01T11:30:31.607902Z",
     "iopub.status.busy": "2023-02-01T11:30:31.607604Z",
     "iopub.status.idle": "2023-02-01T11:30:31.894292Z",
     "shell.execute_reply": "2023-02-01T11:30:31.893194Z"
    },
    "papermill": {
     "duration": 0.298756,
     "end_time": "2023-02-01T11:30:31.896890",
     "exception": false,
     "start_time": "2023-02-01T11:30:31.598134",
     "status": "completed"
    },
    "tags": []
   },
   "outputs": [],
   "source": [
    "x_train = (x_train - mean) / (std*1e-7) #El 1e-7 es para evitar las diviciones por cero.\n",
    "x_test = (x_test - mean) / (std*1e-7)"
   ]
  },
  {
   "cell_type": "markdown",
   "id": "32fa68b8",
   "metadata": {
    "papermill": {
     "duration": 0.009519,
     "end_time": "2023-02-01T11:30:31.915598",
     "exception": false,
     "start_time": "2023-02-01T11:30:31.906079",
     "status": "completed"
    },
    "tags": []
   },
   "source": [
    "Vamos a dividir nuestro set de entrenamiento en set de validacion, entrenamiento y test"
   ]
  },
  {
   "cell_type": "code",
   "execution_count": 10,
   "id": "4fdbea2c",
   "metadata": {
    "execution": {
     "iopub.execute_input": "2023-02-01T11:30:31.934501Z",
     "iopub.status.busy": "2023-02-01T11:30:31.934153Z",
     "iopub.status.idle": "2023-02-01T11:30:31.940712Z",
     "shell.execute_reply": "2023-02-01T11:30:31.939728Z"
    },
    "papermill": {
     "duration": 0.019336,
     "end_time": "2023-02-01T11:30:31.943726",
     "exception": false,
     "start_time": "2023-02-01T11:30:31.924390",
     "status": "completed"
    },
    "tags": []
   },
   "outputs": [
    {
     "name": "stdout",
     "output_type": "stream",
     "text": [
      "x_train shape: (45000, 32, 32, 3)\n",
      "train: 45000\n",
      "val: 5000\n",
      "test: 10000\n"
     ]
    }
   ],
   "source": [
    "(x_train, x_valid) = x_train[5000:], x_train[:5000]\n",
    "(y_train, y_valid) = y_train[5000:], y_train[:5000]\n",
    "\n",
    "print('x_train shape:', x_train.shape)\n",
    "\n",
    "print('train:', x_train.shape[0]) #Usara 45000 imagenes\n",
    "print('val:', x_valid.shape[0]) #Usara 5000 imagenes\n",
    "print('test:', x_test.shape[0]) #Usara 10000 imagenes"
   ]
  },
  {
   "cell_type": "markdown",
   "id": "42aa2e1a",
   "metadata": {
    "papermill": {
     "duration": 0.008648,
     "end_time": "2023-02-01T11:30:31.962037",
     "exception": false,
     "start_time": "2023-02-01T11:30:31.953389",
     "status": "completed"
    },
    "tags": []
   },
   "source": [
    "### Creacion de modelo ###\n"
   ]
  },
  {
   "cell_type": "code",
   "execution_count": 11,
   "id": "5dfc62aa",
   "metadata": {
    "execution": {
     "iopub.execute_input": "2023-02-01T11:30:31.981066Z",
     "iopub.status.busy": "2023-02-01T11:30:31.980305Z",
     "iopub.status.idle": "2023-02-01T11:30:31.984925Z",
     "shell.execute_reply": "2023-02-01T11:30:31.984075Z"
    },
    "papermill": {
     "duration": 0.015884,
     "end_time": "2023-02-01T11:30:31.986751",
     "exception": false,
     "start_time": "2023-02-01T11:30:31.970867",
     "status": "completed"
    },
    "tags": []
   },
   "outputs": [],
   "source": [
    "base_filtros = 32\n",
    "w_regularizer = 1e-4"
   ]
  },
  {
   "cell_type": "markdown",
   "id": "c73976b5",
   "metadata": {
    "papermill": {
     "duration": 0.008755,
     "end_time": "2023-02-01T11:30:32.004188",
     "exception": false,
     "start_time": "2023-02-01T11:30:31.995433",
     "status": "completed"
    },
    "tags": []
   },
   "source": [
    "Todas las capas convolucionales se encargan de la extraccion de datos"
   ]
  },
  {
   "cell_type": "code",
   "execution_count": 12,
   "id": "155f9703",
   "metadata": {
    "execution": {
     "iopub.execute_input": "2023-02-01T11:30:32.023429Z",
     "iopub.status.busy": "2023-02-01T11:30:32.023134Z",
     "iopub.status.idle": "2023-02-01T11:30:36.428246Z",
     "shell.execute_reply": "2023-02-01T11:30:36.426730Z"
    },
    "papermill": {
     "duration": 4.418812,
     "end_time": "2023-02-01T11:30:36.432431",
     "exception": false,
     "start_time": "2023-02-01T11:30:32.013619",
     "status": "completed"
    },
    "tags": []
   },
   "outputs": [
    {
     "name": "stderr",
     "output_type": "stream",
     "text": [
      "2023-02-01 11:30:32.309402: I tensorflow/stream_executor/cuda/cuda_gpu_executor.cc:937] successful NUMA node read from SysFS had negative value (-1), but there must be at least one NUMA node, so returning NUMA node zero\n",
      "2023-02-01 11:30:32.310294: I tensorflow/stream_executor/cuda/cuda_gpu_executor.cc:937] successful NUMA node read from SysFS had negative value (-1), but there must be at least one NUMA node, so returning NUMA node zero\n",
      "2023-02-01 11:30:32.431594: I tensorflow/stream_executor/cuda/cuda_gpu_executor.cc:937] successful NUMA node read from SysFS had negative value (-1), but there must be at least one NUMA node, so returning NUMA node zero\n",
      "2023-02-01 11:30:32.432781: I tensorflow/stream_executor/cuda/cuda_gpu_executor.cc:937] successful NUMA node read from SysFS had negative value (-1), but there must be at least one NUMA node, so returning NUMA node zero\n",
      "2023-02-01 11:30:32.433823: I tensorflow/stream_executor/cuda/cuda_gpu_executor.cc:937] successful NUMA node read from SysFS had negative value (-1), but there must be at least one NUMA node, so returning NUMA node zero\n",
      "2023-02-01 11:30:32.434876: I tensorflow/stream_executor/cuda/cuda_gpu_executor.cc:937] successful NUMA node read from SysFS had negative value (-1), but there must be at least one NUMA node, so returning NUMA node zero\n",
      "2023-02-01 11:30:32.438295: I tensorflow/core/platform/cpu_feature_guard.cc:142] This TensorFlow binary is optimized with oneAPI Deep Neural Network Library (oneDNN) to use the following CPU instructions in performance-critical operations:  AVX2 AVX512F FMA\n",
      "To enable them in other operations, rebuild TensorFlow with the appropriate compiler flags.\n"
     ]
    },
    {
     "name": "stdout",
     "output_type": "stream",
     "text": [
      "Model: \"sequential\"\n",
      "_________________________________________________________________\n",
      "Layer (type)                 Output Shape              Param #   \n",
      "=================================================================\n",
      "conv2d (Conv2D)              (None, 32, 32, 32)        896       \n",
      "_________________________________________________________________\n",
      "activation (Activation)      (None, 32, 32, 32)        0         \n",
      "_________________________________________________________________\n",
      "batch_normalization (BatchNo (None, 32, 32, 32)        128       \n",
      "_________________________________________________________________\n",
      "conv2d_1 (Conv2D)            (None, 32, 32, 32)        9248      \n",
      "_________________________________________________________________\n",
      "activation_1 (Activation)    (None, 32, 32, 32)        0         \n",
      "_________________________________________________________________\n",
      "batch_normalization_1 (Batch (None, 32, 32, 32)        128       \n",
      "_________________________________________________________________\n",
      "max_pooling2d (MaxPooling2D) (None, 16, 16, 32)        0         \n",
      "_________________________________________________________________\n",
      "dropout (Dropout)            (None, 16, 16, 32)        0         \n",
      "_________________________________________________________________\n",
      "conv2d_2 (Conv2D)            (None, 16, 16, 64)        18496     \n",
      "_________________________________________________________________\n",
      "activation_2 (Activation)    (None, 16, 16, 64)        0         \n",
      "_________________________________________________________________\n",
      "batch_normalization_2 (Batch (None, 16, 16, 64)        256       \n",
      "_________________________________________________________________\n",
      "dropout_1 (Dropout)          (None, 16, 16, 64)        0         \n",
      "_________________________________________________________________\n",
      "conv2d_3 (Conv2D)            (None, 16, 16, 64)        36928     \n",
      "_________________________________________________________________\n",
      "activation_3 (Activation)    (None, 16, 16, 64)        0         \n",
      "_________________________________________________________________\n",
      "batch_normalization_3 (Batch (None, 16, 16, 64)        256       \n",
      "_________________________________________________________________\n",
      "max_pooling2d_1 (MaxPooling2 (None, 8, 8, 64)          0         \n",
      "_________________________________________________________________\n",
      "dropout_2 (Dropout)          (None, 8, 8, 64)          0         \n",
      "_________________________________________________________________\n",
      "conv2d_4 (Conv2D)            (None, 8, 8, 128)         73856     \n",
      "_________________________________________________________________\n",
      "activation_4 (Activation)    (None, 8, 8, 128)         0         \n",
      "_________________________________________________________________\n",
      "batch_normalization_4 (Batch (None, 8, 8, 128)         512       \n",
      "_________________________________________________________________\n",
      "conv2d_5 (Conv2D)            (None, 8, 8, 128)         147584    \n",
      "_________________________________________________________________\n",
      "activation_5 (Activation)    (None, 8, 8, 128)         0         \n",
      "_________________________________________________________________\n",
      "batch_normalization_5 (Batch (None, 8, 8, 128)         512       \n",
      "_________________________________________________________________\n",
      "max_pooling2d_2 (MaxPooling2 (None, 4, 4, 128)         0         \n",
      "_________________________________________________________________\n",
      "dropout_3 (Dropout)          (None, 4, 4, 128)         0         \n",
      "_________________________________________________________________\n",
      "flatten (Flatten)            (None, 2048)              0         \n",
      "_________________________________________________________________\n",
      "dense (Dense)                (None, 10)                20490     \n",
      "=================================================================\n",
      "Total params: 309,290\n",
      "Trainable params: 308,394\n",
      "Non-trainable params: 896\n",
      "_________________________________________________________________\n"
     ]
    },
    {
     "name": "stderr",
     "output_type": "stream",
     "text": [
      "2023-02-01 11:30:32.794272: I tensorflow/stream_executor/cuda/cuda_gpu_executor.cc:937] successful NUMA node read from SysFS had negative value (-1), but there must be at least one NUMA node, so returning NUMA node zero\n",
      "2023-02-01 11:30:32.795467: I tensorflow/stream_executor/cuda/cuda_gpu_executor.cc:937] successful NUMA node read from SysFS had negative value (-1), but there must be at least one NUMA node, so returning NUMA node zero\n",
      "2023-02-01 11:30:32.796585: I tensorflow/stream_executor/cuda/cuda_gpu_executor.cc:937] successful NUMA node read from SysFS had negative value (-1), but there must be at least one NUMA node, so returning NUMA node zero\n",
      "2023-02-01 11:30:32.797610: I tensorflow/stream_executor/cuda/cuda_gpu_executor.cc:937] successful NUMA node read from SysFS had negative value (-1), but there must be at least one NUMA node, so returning NUMA node zero\n",
      "2023-02-01 11:30:32.798615: I tensorflow/stream_executor/cuda/cuda_gpu_executor.cc:937] successful NUMA node read from SysFS had negative value (-1), but there must be at least one NUMA node, so returning NUMA node zero\n",
      "2023-02-01 11:30:32.799620: I tensorflow/stream_executor/cuda/cuda_gpu_executor.cc:937] successful NUMA node read from SysFS had negative value (-1), but there must be at least one NUMA node, so returning NUMA node zero\n",
      "2023-02-01 11:30:35.889618: I tensorflow/stream_executor/cuda/cuda_gpu_executor.cc:937] successful NUMA node read from SysFS had negative value (-1), but there must be at least one NUMA node, so returning NUMA node zero\n",
      "2023-02-01 11:30:35.890507: I tensorflow/stream_executor/cuda/cuda_gpu_executor.cc:937] successful NUMA node read from SysFS had negative value (-1), but there must be at least one NUMA node, so returning NUMA node zero\n",
      "2023-02-01 11:30:35.891220: I tensorflow/stream_executor/cuda/cuda_gpu_executor.cc:937] successful NUMA node read from SysFS had negative value (-1), but there must be at least one NUMA node, so returning NUMA node zero\n",
      "2023-02-01 11:30:35.891906: I tensorflow/stream_executor/cuda/cuda_gpu_executor.cc:937] successful NUMA node read from SysFS had negative value (-1), but there must be at least one NUMA node, so returning NUMA node zero\n",
      "2023-02-01 11:30:35.892583: I tensorflow/stream_executor/cuda/cuda_gpu_executor.cc:937] successful NUMA node read from SysFS had negative value (-1), but there must be at least one NUMA node, so returning NUMA node zero\n",
      "2023-02-01 11:30:35.893262: I tensorflow/core/common_runtime/gpu/gpu_device.cc:1510] Created device /job:localhost/replica:0/task:0/device:GPU:0 with 13789 MB memory:  -> device: 0, name: Tesla T4, pci bus id: 0000:00:04.0, compute capability: 7.5\n",
      "2023-02-01 11:30:35.897151: I tensorflow/stream_executor/cuda/cuda_gpu_executor.cc:937] successful NUMA node read from SysFS had negative value (-1), but there must be at least one NUMA node, so returning NUMA node zero\n",
      "2023-02-01 11:30:35.897953: I tensorflow/core/common_runtime/gpu/gpu_device.cc:1510] Created device /job:localhost/replica:0/task:0/device:GPU:1 with 13789 MB memory:  -> device: 1, name: Tesla T4, pci bus id: 0000:00:05.0, compute capability: 7.5\n"
     ]
    }
   ],
   "source": [
    "model = Sequential()\n",
    "#Vamos a stakear capas\n",
    "\n",
    "##CONVOLUCION 1\n",
    "#en el parentesis hay: (Conv2D(#filtros, tamano de kernel, padding, kernel regularizer))\n",
    "model.add(Conv2D(base_filtros, (3,3), padding='same', kernel_regularizer=regularizers.l2(w_regularizer), input_shape=x_train.shape[1:])) \n",
    "#capa de activacion Relu\n",
    "model.add(Activation('relu'))\n",
    "#Capa de batch normalization\n",
    "model.add(BatchNormalization())\n",
    "\n",
    "##CONVOLUCION 2\n",
    "#No necesita definir entrada porque esta se ve definida por la capa anterior\n",
    "model.add(Conv2D(base_filtros, (3,3), padding='same', kernel_regularizer=regularizers.l2(w_regularizer)))\n",
    "#capa de activacion Relu\n",
    "model.add(Activation('relu'))\n",
    "#Capa de batch normalization\n",
    "model.add(BatchNormalization())\n",
    "#capa de maxpooling (Se hara cada 2 capas) para reducir la complejidad del modelo\n",
    "model.add(MaxPooling2D(pool_size=(2,2))) #El pool size o kernel sera de 2x2\n",
    "#capa de dropout para vigilar el overfiting\n",
    "model.add(Dropout(0.2))\n",
    "\n",
    "##CONVOLUCION 3\n",
    "#Se hara mas profunda. El doble de filtros\n",
    "model.add(Conv2D(2*base_filtros, (3,3), padding='same', kernel_regularizer=regularizers.l2(w_regularizer)))\n",
    "#capa de activacion Relu\n",
    "model.add(Activation('relu'))\n",
    "#Capa de batch normalization\n",
    "model.add(BatchNormalization())\n",
    "#capa de dropout\n",
    "model.add(Dropout(0.2))\n",
    "\n",
    "##CONVOLUCION 4\n",
    "model.add(Conv2D(2*base_filtros, (3,3), padding='same', kernel_regularizer=regularizers.l2(w_regularizer)))\n",
    "#capa de activacion Relu\n",
    "model.add(Activation('relu'))\n",
    "#Capa de batch normalization\n",
    "model.add(BatchNormalization())\n",
    "#capa de maxpooling\n",
    "model.add(MaxPooling2D(pool_size=(2,2)))\n",
    "#capa de dropout\n",
    "model.add(Dropout(0.3))\n",
    "\n",
    "##CONVOLUCION 5\n",
    "#Aun mas profunda. 4 veces mas filtros\n",
    "model.add(Conv2D(4*base_filtros, (3,3), padding='same', kernel_regularizer=regularizers.l2(w_regularizer)))\n",
    "#capa de activacion Relu\n",
    "model.add(Activation('relu'))\n",
    "#Capa de batch normalization\n",
    "model.add(BatchNormalization())\n",
    "\n",
    "##CONVOLUCION 6\n",
    "model.add(Conv2D(4*base_filtros, (3,3), padding='same', kernel_regularizer=regularizers.l2(w_regularizer)))\n",
    "#capa de activacion Relu\n",
    "model.add(Activation('relu'))\n",
    "#Capa de batch normalization\n",
    "model.add(BatchNormalization())\n",
    "#capa de maxpooling\n",
    "model.add(MaxPooling2D(pool_size=(2,2)))\n",
    "#capa de dropout\n",
    "model.add(Dropout(0.4))\n",
    "\n",
    "##CLASIFICACION Y FLATTEN\n",
    "#capa flatten para agregar todo el resultado de la ultima convolucion se va a llevar a una unica dimension\n",
    "model.add(Flatten())\n",
    "#capa fully conect densa para la clasificacion de las imagenes\n",
    "model.add(Dense(num_clases, activation='softmax'))\n",
    "\n",
    "model.summary()\n"
   ]
  },
  {
   "cell_type": "code",
   "execution_count": 13,
   "id": "7226e7ad",
   "metadata": {
    "execution": {
     "iopub.execute_input": "2023-02-01T11:30:36.453062Z",
     "iopub.status.busy": "2023-02-01T11:30:36.452761Z",
     "iopub.status.idle": "2023-02-01T11:30:36.458732Z",
     "shell.execute_reply": "2023-02-01T11:30:36.457857Z"
    },
    "papermill": {
     "duration": 0.018332,
     "end_time": "2023-02-01T11:30:36.460994",
     "exception": false,
     "start_time": "2023-02-01T11:30:36.442662",
     "status": "completed"
    },
    "tags": []
   },
   "outputs": [],
   "source": [
    "datagen = ImageDataGenerator(rotation_range = 15,\n",
    "                      width_shift_range = 0.1,\n",
    "                      height_shift_range = 0.1,\n",
    "                      horizontal_flip = True,\n",
    "                      vertical_flip = True)"
   ]
  },
  {
   "cell_type": "code",
   "execution_count": 14,
   "id": "283d9636",
   "metadata": {
    "execution": {
     "iopub.execute_input": "2023-02-01T11:30:36.480386Z",
     "iopub.status.busy": "2023-02-01T11:30:36.480055Z",
     "iopub.status.idle": "2023-02-01T11:30:36.485664Z",
     "shell.execute_reply": "2023-02-01T11:30:36.484822Z"
    },
    "papermill": {
     "duration": 0.01752,
     "end_time": "2023-02-01T11:30:36.487631",
     "exception": false,
     "start_time": "2023-02-01T11:30:36.470111",
     "status": "completed"
    },
    "tags": []
   },
   "outputs": [],
   "source": [
    "from tensorflow.keras import optimizers"
   ]
  },
  {
   "cell_type": "markdown",
   "id": "6a518433",
   "metadata": {
    "papermill": {
     "duration": 0.009033,
     "end_time": "2023-02-01T11:30:36.506035",
     "exception": false,
     "start_time": "2023-02-01T11:30:36.497002",
     "status": "completed"
    },
    "tags": []
   },
   "source": [
    "### Compilacion de Modelo ###\n",
    "\n",
    "Se usara el **optimizador** Adam, el cual se adecua al momentum de la red.\n",
    "Recordando, el optimizador es el encargado de **generar pesos cada vez mejores** y se basa en calcular el gradiente de la funcion de coste (derivada parcial) por cada peso (parametro / dimension) de la red. \n",
    "\n",
    "El conjunto de métodos iterativos de reducción de la función de error (búsqueda de un mínimo local), son conocidos cómo los método de optimización basados en el gradiente descendente.\n",
    "\n",
    "Adam (Adaptive moment estimation)\n",
    "El algoritmo Adam combina las bondades de AdaGrad y RMSProp. Se mantiene un factor de entrenamiento por parámetro y además de calcular RMSProp, cada factor de entrenamiento también se ve afectado por la media del momentum del gradiente\n"
   ]
  },
  {
   "cell_type": "code",
   "execution_count": 15,
   "id": "d7d51b3f",
   "metadata": {
    "execution": {
     "iopub.execute_input": "2023-02-01T11:30:36.529370Z",
     "iopub.status.busy": "2023-02-01T11:30:36.527384Z",
     "iopub.status.idle": "2023-02-01T11:30:36.540858Z",
     "shell.execute_reply": "2023-02-01T11:30:36.540007Z"
    },
    "papermill": {
     "duration": 0.027652,
     "end_time": "2023-02-01T11:30:36.542763",
     "exception": false,
     "start_time": "2023-02-01T11:30:36.515111",
     "status": "completed"
    },
    "tags": []
   },
   "outputs": [],
   "source": [
    "model.compile(loss='categorical_crossentropy', \n",
    "             optimizer = optimizers.Adam(),\n",
    "             metrics=['accuracy'])"
   ]
  },
  {
   "cell_type": "markdown",
   "id": "e9761207",
   "metadata": {
    "papermill": {
     "duration": 0.009208,
     "end_time": "2023-02-01T11:30:36.561019",
     "exception": false,
     "start_time": "2023-02-01T11:30:36.551811",
     "status": "completed"
    },
    "tags": []
   },
   "source": [
    "### Entrenamiento del modelo ###"
   ]
  },
  {
   "cell_type": "code",
   "execution_count": 16,
   "id": "c05882fa",
   "metadata": {
    "execution": {
     "iopub.execute_input": "2023-02-01T11:30:36.580400Z",
     "iopub.status.busy": "2023-02-01T11:30:36.579630Z",
     "iopub.status.idle": "2023-02-01T11:30:36.584062Z",
     "shell.execute_reply": "2023-02-01T11:30:36.583046Z"
    },
    "papermill": {
     "duration": 0.016312,
     "end_time": "2023-02-01T11:30:36.586289",
     "exception": false,
     "start_time": "2023-02-01T11:30:36.569977",
     "status": "completed"
    },
    "tags": []
   },
   "outputs": [],
   "source": [
    "#El batch size indica que va a tomar lotes de a 32 imagenes por iteracion\n",
    "#... si hay poquitas imagenes no hay necesidad de darle este paremetro,\n",
    "#... pero si hay muchas como en este caso, si se debe usar\n",
    "#A mayor batch size, mas recursos va a consumir.\n",
    "#hist = model.fit(x_train, y_train, batch_size=32, epochs=100,\n",
    "#                validation_data=(x_valid, y_valid),\n",
    "#                verbose=2, shuffle=True) #Como se van a ver los datos, mezcla de datos"
   ]
  },
  {
   "cell_type": "markdown",
   "id": "781aeff5",
   "metadata": {
    "papermill": {
     "duration": 0.008694,
     "end_time": "2023-02-01T11:30:36.604476",
     "exception": false,
     "start_time": "2023-02-01T11:30:36.595782",
     "status": "completed"
    },
    "tags": []
   },
   "source": [
    "Nuevo modelo"
   ]
  },
  {
   "cell_type": "code",
   "execution_count": 17,
   "id": "536e9bf1",
   "metadata": {
    "execution": {
     "iopub.execute_input": "2023-02-01T11:30:36.623655Z",
     "iopub.status.busy": "2023-02-01T11:30:36.623399Z",
     "iopub.status.idle": "2023-02-01T11:30:36.627632Z",
     "shell.execute_reply": "2023-02-01T11:30:36.626732Z"
    },
    "papermill": {
     "duration": 0.016459,
     "end_time": "2023-02-01T11:30:36.629916",
     "exception": false,
     "start_time": "2023-02-01T11:30:36.613457",
     "status": "completed"
    },
    "tags": []
   },
   "outputs": [],
   "source": [
    "#checkpoint para guardar el mejor modelo basado en el monitoreo del accuracy del set de validacion\n",
    "checkpoint = ModelCheckpoint('mi_mejor_modelo.hdf5', verbose = 1, save_best_only = True, monitor = 'val_accuracy')"
   ]
  },
  {
   "cell_type": "code",
   "execution_count": 18,
   "id": "45abe00e",
   "metadata": {
    "execution": {
     "iopub.execute_input": "2023-02-01T11:30:36.648914Z",
     "iopub.status.busy": "2023-02-01T11:30:36.648648Z",
     "iopub.status.idle": "2023-02-01T11:36:21.869362Z",
     "shell.execute_reply": "2023-02-01T11:36:21.867642Z"
    },
    "papermill": {
     "duration": 345.233305,
     "end_time": "2023-02-01T11:36:21.872120",
     "exception": false,
     "start_time": "2023-02-01T11:30:36.638815",
     "status": "completed"
    },
    "tags": []
   },
   "outputs": [
    {
     "name": "stderr",
     "output_type": "stream",
     "text": [
      "2023-02-01 11:30:36.782388: I tensorflow/compiler/mlir/mlir_graph_optimization_pass.cc:185] None of the MLIR Optimization Passes are enabled (registered 2)\n"
     ]
    },
    {
     "name": "stdout",
     "output_type": "stream",
     "text": [
      "Epoch 1/12\n"
     ]
    },
    {
     "name": "stderr",
     "output_type": "stream",
     "text": [
      "2023-02-01 11:30:39.002732: I tensorflow/stream_executor/cuda/cuda_dnn.cc:369] Loaded cuDNN version 8005\n"
     ]
    },
    {
     "name": "stdout",
     "output_type": "stream",
     "text": [
      "351/351 - 32s - loss: 2.2143 - accuracy: 0.3282 - val_loss: 1.9826 - val_accuracy: 0.3610\n",
      "\n",
      "Epoch 00001: val_accuracy improved from -inf to 0.36100, saving model to mi_mejor_modelo.hdf5\n",
      "Epoch 2/12\n",
      "351/351 - 21s - loss: 1.7240 - accuracy: 0.4324 - val_loss: 2.1430 - val_accuracy: 0.3822\n",
      "\n",
      "Epoch 00002: val_accuracy improved from 0.36100 to 0.38220, saving model to mi_mejor_modelo.hdf5\n",
      "Epoch 3/12\n",
      "351/351 - 21s - loss: 1.5606 - accuracy: 0.4977 - val_loss: 1.7941 - val_accuracy: 0.4342\n",
      "\n",
      "Epoch 00003: val_accuracy improved from 0.38220 to 0.43420, saving model to mi_mejor_modelo.hdf5\n",
      "Epoch 4/12\n",
      "351/351 - 21s - loss: 1.4266 - accuracy: 0.5378 - val_loss: 1.5258 - val_accuracy: 0.5430\n",
      "\n",
      "Epoch 00004: val_accuracy improved from 0.43420 to 0.54300, saving model to mi_mejor_modelo.hdf5\n",
      "Epoch 5/12\n",
      "351/351 - 22s - loss: 1.3587 - accuracy: 0.5599 - val_loss: 1.2774 - val_accuracy: 0.5854\n",
      "\n",
      "Epoch 00005: val_accuracy improved from 0.54300 to 0.58540, saving model to mi_mejor_modelo.hdf5\n",
      "Epoch 6/12\n",
      "351/351 - 21s - loss: 1.2629 - accuracy: 0.5818 - val_loss: 1.2735 - val_accuracy: 0.5976\n",
      "\n",
      "Epoch 00006: val_accuracy improved from 0.58540 to 0.59760, saving model to mi_mejor_modelo.hdf5\n",
      "Epoch 7/12\n",
      "351/351 - 21s - loss: 1.1723 - accuracy: 0.6051 - val_loss: 1.1286 - val_accuracy: 0.6434\n",
      "\n",
      "Epoch 00007: val_accuracy improved from 0.59760 to 0.64340, saving model to mi_mejor_modelo.hdf5\n",
      "Epoch 8/12\n",
      "351/351 - 21s - loss: 1.1211 - accuracy: 0.6231 - val_loss: 1.1384 - val_accuracy: 0.6398\n",
      "\n",
      "Epoch 00008: val_accuracy did not improve from 0.64340\n",
      "Epoch 9/12\n",
      "351/351 - 21s - loss: 1.0810 - accuracy: 0.6404 - val_loss: 1.0445 - val_accuracy: 0.6656\n",
      "\n",
      "Epoch 00009: val_accuracy improved from 0.64340 to 0.66560, saving model to mi_mejor_modelo.hdf5\n",
      "Epoch 10/12\n",
      "351/351 - 21s - loss: 1.0437 - accuracy: 0.6546 - val_loss: 1.0824 - val_accuracy: 0.6512\n",
      "\n",
      "Epoch 00010: val_accuracy did not improve from 0.66560\n",
      "Epoch 11/12\n",
      "351/351 - 21s - loss: 1.0158 - accuracy: 0.6657 - val_loss: 0.9165 - val_accuracy: 0.7010\n",
      "\n",
      "Epoch 00011: val_accuracy improved from 0.66560 to 0.70100, saving model to mi_mejor_modelo.hdf5\n",
      "Epoch 12/12\n",
      "351/351 - 22s - loss: 0.9917 - accuracy: 0.6749 - val_loss: 1.0465 - val_accuracy: 0.6702\n",
      "\n",
      "Epoch 00012: val_accuracy did not improve from 0.70100\n"
     ]
    }
   ],
   "source": [
    "#En este nuevo modelo, no ira directamente al set de datos, sino que va a ir a la funcion de generacion de imagenes\n",
    "#... el cual va a generar imagenes basadas en el set de entrenamiento, para luego validarlas con el set de validacion\n",
    "hist = model.fit(datagen.flow(x_train, y_train, batch_size = 128),\n",
    "         callbacks = [checkpoint],\n",
    "         steps_per_epoch = x_train.shape[0] // 128, #pasos por epoca. El batch size es 128\n",
    "         epochs = 12,\n",
    "         verbose = 2,\n",
    "         validation_data = (x_valid, y_valid))"
   ]
  },
  {
   "cell_type": "markdown",
   "id": "1ae01694",
   "metadata": {
    "papermill": {
     "duration": 0.010466,
     "end_time": "2023-02-01T11:36:21.893775",
     "exception": false,
     "start_time": "2023-02-01T11:36:21.883309",
     "status": "completed"
    },
    "tags": []
   },
   "source": [
    "### Visualizacion de comportamiento "
   ]
  },
  {
   "cell_type": "code",
   "execution_count": 19,
   "id": "ceca07c8",
   "metadata": {
    "execution": {
     "iopub.execute_input": "2023-02-01T11:36:21.917000Z",
     "iopub.status.busy": "2023-02-01T11:36:21.916166Z",
     "iopub.status.idle": "2023-02-01T11:36:22.121537Z",
     "shell.execute_reply": "2023-02-01T11:36:22.120603Z"
    },
    "papermill": {
     "duration": 0.219236,
     "end_time": "2023-02-01T11:36:22.123544",
     "exception": false,
     "start_time": "2023-02-01T11:36:21.904308",
     "status": "completed"
    },
    "tags": []
   },
   "outputs": [
    {
     "data": {
      "image/png": "[encoded data removed]",
      "text/plain": [
       "<Figure size 432x288 with 1 Axes>"
      ]
     },
     "metadata": {
      "needs_background": "light"
     },
     "output_type": "display_data"
    }
   ],
   "source": [
    "plt.plot(hist.history['accuracy'], label='Train')\n",
    "plt.plot(hist.history['val_accuracy'], label='Val')\n",
    "plt.legend()\n",
    "plt.show()"
   ]
  },
  {
   "cell_type": "markdown",
   "id": "4c648762",
   "metadata": {
    "papermill": {
     "duration": 0.010578,
     "end_time": "2023-02-01T11:36:22.145320",
     "exception": false,
     "start_time": "2023-02-01T11:36:22.134742",
     "status": "completed"
    },
    "tags": []
   },
   "source": [
    "### Evaluacion del modelo ###"
   ]
  },
  {
   "cell_type": "code",
   "execution_count": 20,
   "id": "fc4472f1",
   "metadata": {
    "execution": {
     "iopub.execute_input": "2023-02-01T11:36:22.168044Z",
     "iopub.status.busy": "2023-02-01T11:36:22.167751Z",
     "iopub.status.idle": "2023-02-01T11:36:22.171922Z",
     "shell.execute_reply": "2023-02-01T11:36:22.171004Z"
    },
    "papermill": {
     "duration": 0.017938,
     "end_time": "2023-02-01T11:36:22.173776",
     "exception": false,
     "start_time": "2023-02-01T11:36:22.155838",
     "status": "completed"
    },
    "tags": []
   },
   "outputs": [],
   "source": [
    "model2 = model"
   ]
  },
  {
   "cell_type": "code",
   "execution_count": 21,
   "id": "e7a561f6",
   "metadata": {
    "execution": {
     "iopub.execute_input": "2023-02-01T11:36:22.197278Z",
     "iopub.status.busy": "2023-02-01T11:36:22.195884Z",
     "iopub.status.idle": "2023-02-01T11:36:22.231538Z",
     "shell.execute_reply": "2023-02-01T11:36:22.230671Z"
    },
    "papermill": {
     "duration": 0.049022,
     "end_time": "2023-02-01T11:36:22.233483",
     "exception": false,
     "start_time": "2023-02-01T11:36:22.184461",
     "status": "completed"
    },
    "tags": []
   },
   "outputs": [],
   "source": [
    "model2.load_weights('./mi_mejor_modelo.hdf5')"
   ]
  },
  {
   "cell_type": "code",
   "execution_count": 22,
   "id": "8b7db3dc",
   "metadata": {
    "execution": {
     "iopub.execute_input": "2023-02-01T11:36:22.257114Z",
     "iopub.status.busy": "2023-02-01T11:36:22.256323Z",
     "iopub.status.idle": "2023-02-01T11:36:23.859028Z",
     "shell.execute_reply": "2023-02-01T11:36:23.857954Z"
    },
    "papermill": {
     "duration": 1.616879,
     "end_time": "2023-02-01T11:36:23.861405",
     "exception": false,
     "start_time": "2023-02-01T11:36:22.244526",
     "status": "completed"
    },
    "tags": []
   },
   "outputs": [
    {
     "name": "stdout",
     "output_type": "stream",
     "text": [
      "313/313 [==============================] - 1s 4ms/step - loss: 0.9444 - accuracy: 0.6986\n"
     ]
    },
    {
     "data": {
      "text/plain": [
       "[0.944433867931366, 0.6985999941825867]"
      ]
     },
     "execution_count": 22,
     "metadata": {},
     "output_type": "execute_result"
    }
   ],
   "source": [
    "model2.evaluate(x_test, y_test)"
   ]
  },
  {
   "cell_type": "markdown",
   "id": "5fd5f8e8",
   "metadata": {
    "papermill": {
     "duration": 0.012164,
     "end_time": "2023-02-01T11:36:23.885991",
     "exception": false,
     "start_time": "2023-02-01T11:36:23.873827",
     "status": "completed"
    },
    "tags": []
   },
   "source": [
    "En este caso llegamos a un accuracy del 70.5%, el cual podría aumentar si tuvieramos mas epocas por ejemplo o si cambiamos algunos de los settings del modelo"
   ]
  },
  {
   "cell_type": "markdown",
   "id": "adf81c68",
   "metadata": {
    "papermill": {
     "duration": 0.01205,
     "end_time": "2023-02-01T11:36:23.910041",
     "exception": false,
     "start_time": "2023-02-01T11:36:23.897991",
     "status": "completed"
    },
    "tags": []
   },
   "source": [
    "Hay varias estrategias que pueden ayudar a subir el accuracy.\n",
    "Una de ellas es el **Data Augmentation** esto se trata de \"aumentar\" el set de entrenamiento con las mismas imagenes pero con ciertas alteraciones como: rotacion (con fill mode nearest, reflect o wrap), desplazar la imagen en las 4 direcciones, aumentar o disminuir el brillo de la imagen, hacer zoom en recuadros especificos, etc."
   ]
  }
 ],
 "metadata": {
  "kernelspec": {
   "display_name": "Python 3",
   "language": "python",
   "name": "python3"
  },
  "language_info": {
   "codemirror_mode": {
    "name": "ipython",
    "version": 3
   },
   "file_extension": ".py",
   "mimetype": "text/x-python",
   "name": "python",
   "nbconvert_exporter": "python",
   "pygments_lexer": "ipython3",
   "version": "3.7.12"
  },
  "papermill": {
   "default_parameters": {},
   "duration": 374.557973,
   "end_time": "2023-02-01T11:36:27.168863",
   "environment_variables": {},
   "exception": null,
   "input_path": "__notebook__.ipynb",
   "output_path": "__notebook__.ipynb",
   "parameters": {},
   "start_time": "2023-02-01T11:30:12.610890",
   "version": "2.3.4"
  }
 },
 "nbformat": 4,
 "nbformat_minor": 5
}
