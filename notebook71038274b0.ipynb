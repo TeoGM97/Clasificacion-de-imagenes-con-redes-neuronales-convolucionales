{
 "cells": [
  {
   "cell_type": "code",
   "execution_count": 1,
   "id": "2110d8aa",
   "metadata": {
    "execution": {
     "iopub.execute_input": "2023-01-31T12:02:35.177475Z",
     "iopub.status.busy": "2023-01-31T12:02:35.176667Z",
     "iopub.status.idle": "2023-01-31T12:02:41.130303Z",
     "shell.execute_reply": "2023-01-31T12:02:41.129357Z"
    },
    "papermill": {
     "duration": 5.964525,
     "end_time": "2023-01-31T12:02:41.132762",
     "exception": false,
     "start_time": "2023-01-31T12:02:35.168237",
     "status": "completed"
    },
    "tags": []
   },
   "outputs": [],
   "source": [
    "from tensorflow import keras\n",
    "from tensorflow.keras.utils import to_categorical\n",
    "from tensorflow.keras import regularizers\n",
    "from tensorflow.keras.models import Sequential\n",
    "from tensorflow.keras.layers import Conv2D, MaxPooling2D, Flatten,Dense, Dropout, Activation, BatchNormalization\n",
    "from tensorflow.keras.datasets import cifar10\n",
    "from tensorflow.keras.preprocessing.image import ImageDataGenerator\n"
   ]
  },
  {
   "cell_type": "code",
   "execution_count": 2,
   "id": "5e044d3d",
   "metadata": {
    "execution": {
     "iopub.execute_input": "2023-01-31T12:02:41.145508Z",
     "iopub.status.busy": "2023-01-31T12:02:41.144987Z",
     "iopub.status.idle": "2023-01-31T12:02:41.149498Z",
     "shell.execute_reply": "2023-01-31T12:02:41.148509Z"
    },
    "papermill": {
     "duration": 0.013009,
     "end_time": "2023-01-31T12:02:41.151701",
     "exception": false,
     "start_time": "2023-01-31T12:02:41.138692",
     "status": "completed"
    },
    "tags": []
   },
   "outputs": [],
   "source": [
    "import numpy as np\n",
    "import matplotlib.pyplot as plt"
   ]
  },
  {
   "cell_type": "markdown",
   "id": "59abad58",
   "metadata": {
    "papermill": {
     "duration": 0.005055,
     "end_time": "2023-01-31T12:02:41.162059",
     "exception": false,
     "start_time": "2023-01-31T12:02:41.157004",
     "status": "completed"
    },
    "tags": []
   },
   "source": [
    "Vamos a cargar nuestros datos"
   ]
  },
  {
   "cell_type": "code",
   "execution_count": 3,
   "id": "5d3c78a1",
   "metadata": {
    "execution": {
     "iopub.execute_input": "2023-01-31T12:02:41.174986Z",
     "iopub.status.busy": "2023-01-31T12:02:41.174667Z",
     "iopub.status.idle": "2023-01-31T12:02:45.470311Z",
     "shell.execute_reply": "2023-01-31T12:02:45.469029Z"
    },
    "papermill": {
     "duration": 4.304932,
     "end_time": "2023-01-31T12:02:45.473007",
     "exception": false,
     "start_time": "2023-01-31T12:02:41.168075",
     "status": "completed"
    },
    "tags": []
   },
   "outputs": [
    {
     "name": "stdout",
     "output_type": "stream",
     "text": [
      "Downloading data from https://www.cs.toronto.edu/~kriz/cifar-10-python.tar.gz\n",
      "170500096/170498071 [==============================] - 2s 0us/step\n",
      "170508288/170498071 [==============================] - 2s 0us/step\n"
     ]
    }
   ],
   "source": [
    "(x_train, y_train), (x_test, y_test) = cifar10.load_data()"
   ]
  },
  {
   "cell_type": "markdown",
   "id": "41082c5a",
   "metadata": {
    "papermill": {
     "duration": 0.008042,
     "end_time": "2023-01-31T12:02:45.490590",
     "exception": false,
     "start_time": "2023-01-31T12:02:45.482548",
     "status": "completed"
    },
    "tags": []
   },
   "source": [
    "Podemos ver que el dataset tiene multiples imagenes de multiples elementos como vehiculos, animales, etc"
   ]
  },
  {
   "cell_type": "code",
   "execution_count": 4,
   "id": "13288265",
   "metadata": {
    "execution": {
     "iopub.execute_input": "2023-01-31T12:02:45.509381Z",
     "iopub.status.busy": "2023-01-31T12:02:45.508526Z",
     "iopub.status.idle": "2023-01-31T12:02:45.914842Z",
     "shell.execute_reply": "2023-01-31T12:02:45.913914Z"
    },
    "papermill": {
     "duration": 0.418124,
     "end_time": "2023-01-31T12:02:45.917131",
     "exception": false,
     "start_time": "2023-01-31T12:02:45.499007",
     "status": "completed"
    },
    "tags": []
   },
   "outputs": [
    {
     "data": {
      "image/png": "[encoded data removed]",
      "text/plain": [
       "<Figure size 432x288 with 4 Axes>"
      ]
     },
     "metadata": {
      "needs_background": "light"
     },
     "output_type": "display_data"
    }
   ],
   "source": [
    "fig, axs = plt.subplots(2, 2) #Crea una matriz 2x2 para los subplots\n",
    "axs[0,0].imshow(x_train[1])\n",
    "axs[0,1].imshow(x_train[2])\n",
    "axs[1,0].imshow(x_train[3])\n",
    "axs[1,1].imshow(x_train[4])\n",
    "plt.show()"
   ]
  },
  {
   "cell_type": "markdown",
   "id": "b063e38c",
   "metadata": {
    "papermill": {
     "duration": 0.008111,
     "end_time": "2023-01-31T12:02:45.933463",
     "exception": false,
     "start_time": "2023-01-31T12:02:45.925352",
     "status": "completed"
    },
    "tags": []
   },
   "source": [
    "Vamos a hacer una limpieza de datos comenzando por reducir la dimension de las imagenes. Sabemos que las matrices van de 0 a 255, entonces vamos a volver los numeros de 0 a 1 asi: Se divide al final por 255:\n",
    "x_train = x_train.astype('float32')/255 al igual que x_test.\n",
    "\n",
    "Sin embargo, para esta nueva version no se usara"
   ]
  },
  {
   "cell_type": "code",
   "execution_count": 5,
   "id": "d738bf88",
   "metadata": {
    "execution": {
     "iopub.execute_input": "2023-01-31T12:02:45.952086Z",
     "iopub.status.busy": "2023-01-31T12:02:45.951110Z",
     "iopub.status.idle": "2023-01-31T12:02:46.137231Z",
     "shell.execute_reply": "2023-01-31T12:02:46.136140Z"
    },
    "papermill": {
     "duration": 0.19832,
     "end_time": "2023-01-31T12:02:46.139811",
     "exception": false,
     "start_time": "2023-01-31T12:02:45.941491",
     "status": "completed"
    },
    "tags": []
   },
   "outputs": [],
   "source": [
    "x_train = x_train.astype('float32')  #Quedaran imagenes de 32x32 en 3 distintas capas\n",
    "x_test = x_test.astype('float32')"
   ]
  },
  {
   "cell_type": "markdown",
   "id": "afe49924",
   "metadata": {
    "papermill": {
     "duration": 0.00854,
     "end_time": "2023-01-31T12:02:46.156768",
     "exception": false,
     "start_time": "2023-01-31T12:02:46.148228",
     "status": "completed"
    },
    "tags": []
   },
   "source": [
    "Vamos a reducir tambien o reestructurar los arreglos para los labels."
   ]
  },
  {
   "cell_type": "code",
   "execution_count": 6,
   "id": "7a825cbf",
   "metadata": {
    "execution": {
     "iopub.execute_input": "2023-01-31T12:02:46.173835Z",
     "iopub.status.busy": "2023-01-31T12:02:46.173534Z",
     "iopub.status.idle": "2023-01-31T12:02:46.181488Z",
     "shell.execute_reply": "2023-01-31T12:02:46.180662Z"
    },
    "papermill": {
     "duration": 0.018968,
     "end_time": "2023-01-31T12:02:46.183561",
     "exception": false,
     "start_time": "2023-01-31T12:02:46.164593",
     "status": "completed"
    },
    "tags": []
   },
   "outputs": [],
   "source": [
    "num_clases = len(np.unique(y_train)) #Hay 10 posibles numeros aca\n",
    "y_train = to_categorical(y_train, num_clases) #To categorical vuelve los valores de clasificacion en un binario\n",
    "y_test = to_categorical(y_test, num_clases) #Arreglo de 10 posibilidades donde marca el 1 donde esta la clase"
   ]
  },
  {
   "cell_type": "code",
   "execution_count": 7,
   "id": "000f6af7",
   "metadata": {
    "execution": {
     "iopub.execute_input": "2023-01-31T12:02:46.201208Z",
     "iopub.status.busy": "2023-01-31T12:02:46.200440Z",
     "iopub.status.idle": "2023-01-31T12:02:46.207304Z",
     "shell.execute_reply": "2023-01-31T12:02:46.206405Z"
    },
    "papermill": {
     "duration": 0.017762,
     "end_time": "2023-01-31T12:02:46.209373",
     "exception": false,
     "start_time": "2023-01-31T12:02:46.191611",
     "status": "completed"
    },
    "tags": []
   },
   "outputs": [
    {
     "data": {
      "text/plain": [
       "array([0., 0., 0., 0., 0., 0., 1., 0., 0., 0.], dtype=float32)"
      ]
     },
     "execution_count": 7,
     "metadata": {},
     "output_type": "execute_result"
    }
   ],
   "source": [
    "y_train[0]"
   ]
  },
  {
   "cell_type": "markdown",
   "id": "a4bc3111",
   "metadata": {
    "papermill": {
     "duration": 0.007586,
     "end_time": "2023-01-31T12:02:46.225397",
     "exception": false,
     "start_time": "2023-01-31T12:02:46.217811",
     "status": "completed"
    },
    "tags": []
   },
   "source": [
    "### Normalizar ###\n",
    "\n",
    "Vamos a sacar la media, la desviacion estandar. Luego a la data de entrenamiento le retamos la media sobre la desviacion estandar. Todos los datos quedaran entre 0 y 1\n",
    "\n"
   ]
  },
  {
   "cell_type": "code",
   "execution_count": 8,
   "id": "e62f076e",
   "metadata": {
    "execution": {
     "iopub.execute_input": "2023-01-31T12:02:46.242764Z",
     "iopub.status.busy": "2023-01-31T12:02:46.242008Z",
     "iopub.status.idle": "2023-01-31T12:02:46.634460Z",
     "shell.execute_reply": "2023-01-31T12:02:46.633460Z"
    },
    "papermill": {
     "duration": 0.403529,
     "end_time": "2023-01-31T12:02:46.636908",
     "exception": false,
     "start_time": "2023-01-31T12:02:46.233379",
     "status": "completed"
    },
    "tags": []
   },
   "outputs": [],
   "source": [
    "mean = np.mean(x_train) #Media\n",
    "std = np.std(x_train) #Desviacion Estandar"
   ]
  },
  {
   "cell_type": "markdown",
   "id": "98783605",
   "metadata": {
    "papermill": {
     "duration": 0.007865,
     "end_time": "2023-01-31T12:02:46.653072",
     "exception": false,
     "start_time": "2023-01-31T12:02:46.645207",
     "status": "completed"
    },
    "tags": []
   },
   "source": [
    "Se aplicara tambien sobre x test para que queden igualmente normalizados, pero siempre basandonos en x train.\n",
    "El modelo no debe conocer nunca los datos de prueba en su fase de entrenamiento"
   ]
  },
  {
   "cell_type": "code",
   "execution_count": 9,
   "id": "6e00bf99",
   "metadata": {
    "execution": {
     "iopub.execute_input": "2023-01-31T12:02:46.670958Z",
     "iopub.status.busy": "2023-01-31T12:02:46.670198Z",
     "iopub.status.idle": "2023-01-31T12:02:46.994415Z",
     "shell.execute_reply": "2023-01-31T12:02:46.992824Z"
    },
    "papermill": {
     "duration": 0.337958,
     "end_time": "2023-01-31T12:02:46.998930",
     "exception": false,
     "start_time": "2023-01-31T12:02:46.660972",
     "status": "completed"
    },
    "tags": []
   },
   "outputs": [],
   "source": [
    "x_train = (x_train - mean) / (std*1e-7) #El 1e-7 es para evitar las diviciones por cero.\n",
    "x_test = (x_test - mean) / (std*1e-7)"
   ]
  },
  {
   "cell_type": "markdown",
   "id": "da1b36e3",
   "metadata": {
    "papermill": {
     "duration": 0.01728,
     "end_time": "2023-01-31T12:02:47.042971",
     "exception": false,
     "start_time": "2023-01-31T12:02:47.025691",
     "status": "completed"
    },
    "tags": []
   },
   "source": [
    "Vamos a dividir nuestro set de entrenamiento en set de validacion, entrenamiento y test"
   ]
  },
  {
   "cell_type": "code",
   "execution_count": 10,
   "id": "dfeea380",
   "metadata": {
    "execution": {
     "iopub.execute_input": "2023-01-31T12:02:47.075824Z",
     "iopub.status.busy": "2023-01-31T12:02:47.075321Z",
     "iopub.status.idle": "2023-01-31T12:02:47.084693Z",
     "shell.execute_reply": "2023-01-31T12:02:47.083324Z"
    },
    "papermill": {
     "duration": 0.032531,
     "end_time": "2023-01-31T12:02:47.092212",
     "exception": false,
     "start_time": "2023-01-31T12:02:47.059681",
     "status": "completed"
    },
    "tags": []
   },
   "outputs": [
    {
     "name": "stdout",
     "output_type": "stream",
     "text": [
      "x_train shape: (45000, 32, 32, 3)\n",
      "train: 45000\n",
      "val: 5000\n",
      "test: 10000\n"
     ]
    }
   ],
   "source": [
    "(x_train, x_valid) = x_train[5000:], x_train[:5000]\n",
    "(y_train, y_valid) = y_train[5000:], y_train[:5000]\n",
    "\n",
    "print('x_train shape:', x_train.shape)\n",
    "\n",
    "print('train:', x_train.shape[0]) #Usara 45000 imagenes\n",
    "print('val:', x_valid.shape[0]) #Usara 5000 imagenes\n",
    "print('test:', x_test.shape[0]) #Usara 10000 imagenes"
   ]
  },
  {
   "cell_type": "markdown",
   "id": "328c851d",
   "metadata": {
    "papermill": {
     "duration": 0.014542,
     "end_time": "2023-01-31T12:02:47.122755",
     "exception": false,
     "start_time": "2023-01-31T12:02:47.108213",
     "status": "completed"
    },
    "tags": []
   },
   "source": [
    "### Creacion de modelo ###\n"
   ]
  },
  {
   "cell_type": "code",
   "execution_count": 11,
   "id": "6319fb2d",
   "metadata": {
    "execution": {
     "iopub.execute_input": "2023-01-31T12:02:47.150930Z",
     "iopub.status.busy": "2023-01-31T12:02:47.150595Z",
     "iopub.status.idle": "2023-01-31T12:02:47.155299Z",
     "shell.execute_reply": "2023-01-31T12:02:47.154346Z"
    },
    "papermill": {
     "duration": 0.021489,
     "end_time": "2023-01-31T12:02:47.158045",
     "exception": false,
     "start_time": "2023-01-31T12:02:47.136556",
     "status": "completed"
    },
    "tags": []
   },
   "outputs": [],
   "source": [
    "base_filtros = 32\n",
    "w_regularizer = 1e-4"
   ]
  },
  {
   "cell_type": "markdown",
   "id": "f3a97ecb",
   "metadata": {
    "papermill": {
     "duration": 0.012901,
     "end_time": "2023-01-31T12:02:47.183968",
     "exception": false,
     "start_time": "2023-01-31T12:02:47.171067",
     "status": "completed"
    },
    "tags": []
   },
   "source": [
    "Todas las capas convolucionales se encargan de la extraccion de datos"
   ]
  },
  {
   "cell_type": "code",
   "execution_count": 12,
   "id": "772ba069",
   "metadata": {
    "execution": {
     "iopub.execute_input": "2023-01-31T12:02:47.210397Z",
     "iopub.status.busy": "2023-01-31T12:02:47.210136Z",
     "iopub.status.idle": "2023-01-31T12:02:51.382970Z",
     "shell.execute_reply": "2023-01-31T12:02:51.378148Z"
    },
    "papermill": {
     "duration": 4.187796,
     "end_time": "2023-01-31T12:02:51.385262",
     "exception": false,
     "start_time": "2023-01-31T12:02:47.197466",
     "status": "completed"
    },
    "tags": []
   },
   "outputs": [
    {
     "name": "stderr",
     "output_type": "stream",
     "text": [
      "2023-01-31 12:02:47.552033: I tensorflow/stream_executor/cuda/cuda_gpu_executor.cc:937] successful NUMA node read from SysFS had negative value (-1), but there must be at least one NUMA node, so returning NUMA node zero\n",
      "2023-01-31 12:02:47.552921: I tensorflow/stream_executor/cuda/cuda_gpu_executor.cc:937] successful NUMA node read from SysFS had negative value (-1), but there must be at least one NUMA node, so returning NUMA node zero\n",
      "2023-01-31 12:02:47.699714: I tensorflow/stream_executor/cuda/cuda_gpu_executor.cc:937] successful NUMA node read from SysFS had negative value (-1), but there must be at least one NUMA node, so returning NUMA node zero\n",
      "2023-01-31 12:02:47.700493: I tensorflow/stream_executor/cuda/cuda_gpu_executor.cc:937] successful NUMA node read from SysFS had negative value (-1), but there must be at least one NUMA node, so returning NUMA node zero\n",
      "2023-01-31 12:02:47.701188: I tensorflow/stream_executor/cuda/cuda_gpu_executor.cc:937] successful NUMA node read from SysFS had negative value (-1), but there must be at least one NUMA node, so returning NUMA node zero\n",
      "2023-01-31 12:02:47.701942: I tensorflow/stream_executor/cuda/cuda_gpu_executor.cc:937] successful NUMA node read from S"
     ]
    },
    {
     "name": "stdout",
     "output_type": "stream",
     "text": [
      "Model: \"sequential\"\n",
      "_________________________________________________________________\n",
      "Layer (type)                 Output Shape              Param #   \n",
      "=================================================================\n",
      "conv2d (Conv2D)              (None, 32, 32, 32)        896       \n",
      "_________________________________________________________________\n",
      "activation (Activation)      (None, 32, 32, 32)        0         \n",
      "_________________________________________________________________\n",
      "batch_normalization (BatchNo (None, 32, 32, 32)        128       \n",
      "_________________________________________________________________\n",
      "conv2d_1 (Conv2D)            (None, 32, 32, 32)        9248      \n",
      "_________________________________________________________________\n",
      "activation_1 (Activation)    (None, 32, 32, 32)        0         \n",
      "_________________________________________________________________\n",
      "batch_normalization_1 (Batch (None, 32, 32, 32)        128       \n",
      "_________________________________________________________________\n",
      "max_pooling2d (MaxPooling2D) (None, 16, 16, 32)        0         \n",
      "_________________________________________________________________\n",
      "dropout (Dropout)            (None, 16, 16, 32)        0         \n",
      "_________________________________________________________________\n",
      "conv2d_2 (Conv2D)            (None, 16, 16, 64)        18496     \n",
      "_________________________________________________________________\n",
      "activation_2 (Activation)    (None, 16, 16, 64)        0         \n",
      "_________________________________________________________________\n",
      "batch_normalization_2 (Batch (None, 16, 16, 64)        256       \n",
      "_________________________________________________________________\n",
      "dropout_1 (Dropout)          (None, 16, 16, 64)        0         \n",
      "_________________________________________________________________\n",
      "conv2d_3 (Conv2D)            (None, 16, 16, 64)        36928     \n",
      "_________________________________________________________________\n",
      "activation_3 (Activation)    (None, 16, 16, 64)        0         \n",
      "_________________________________________________________________\n",
      "batch_normalization_3 (Batch (None, 16, 16, 64)        256       \n",
      "_________________________________________________________________\n",
      "max_pooling2d_1 (MaxPooling2 (None, 8, 8, 64)          0         \n",
      "_________________________________________________________________\n",
      "dropout_2 (Dropout)          (None, 8, 8, 64)          0         \n",
      "_________________________________________________________________\n",
      "conv2d_4 (Conv2D)            (None, 8, 8, 128)         73856     \n",
      "_________________________________________________________________\n",
      "activation_4 (Activation)    (None, 8, 8, 128)         0         \n",
      "_________________________________________________________________\n",
      "batch_normalization_4 (Batch (None, 8, 8, 128)         512       \n",
      "_________________________________________________________________\n",
      "conv2d_5 (Conv2D)            (None, 8, 8, 128)         147584    \n",
      "_________________________________________________________________\n",
      "activation_5 (Activation)    (None, 8, 8, 128)         0         \n",
      "_________________________________________________________________\n",
      "batch_normalization_5 (Batch (None, 8, 8, 128)         512       \n",
      "_________________________________________________________________\n",
      "max_pooling2d_2 (MaxPooling2 (None, 4, 4, 128)         0         \n",
      "_________________________________________________________________\n",
      "dropout_3 (Dropout)          (None, 4, 4, 128)         0         \n",
      "_________________________________________________________________\n",
      "flatten (Flatten)            (None, 2048)              0         \n",
      "_________________________________________________________________\n",
      "dense (Dense)                (None, 10)                20490     \n",
      "=================================================================\n",
      "Total params: 309,290\n",
      "Trainable params: 308,394\n",
      "Non-trainable params: 896\n",
      "_________________________________________________________________\n"
     ]
    },
    {
     "name": "stderr",
     "output_type": "stream",
     "text": [
      "ysFS had negative value (-1), but there must be at least one NUMA node, so returning NUMA node zero\n",
      "2023-01-31 12:02:47.704306: I tensorflow/core/platform/cpu_feature_guard.cc:142] This TensorFlow binary is optimized with oneAPI Deep Neural Network Library (oneDNN) to use the following CPU instructions in performance-critical operations:  AVX2 AVX512F FMA\n",
      "To enable them in other operations, rebuild TensorFlow with the appropriate compiler flags.\n",
      "2023-01-31 12:02:47.955986: I tensorflow/stream_executor/cuda/cuda_gpu_executor.cc:937] successful NUMA node read from SysFS had negative value (-1), but there must be at least one NUMA node, so returning NUMA node zero\n",
      "2023-01-31 12:02:47.956861: I tensorflow/stream_executor/cuda/cuda_gpu_executor.cc:937] successful NUMA node read from SysFS had negative value (-1), but there must be at least one NUMA node, so returning NUMA node zero\n",
      "2023-01-31 12:02:47.957607: I tensorflow/stream_executor/cuda/cuda_gpu_executor.cc:937] successful NUMA node read from SysFS had negative value (-1), but there must be at least one NUMA node, so returning NUMA node zero\n",
      "2023-01-31 12:02:47.958322: I tensorflow/stream_executor/cuda/cuda_gpu_executor.cc:937] successful NUMA node read from SysFS had negative value (-1), but there must be at least one NUMA node, so returning NUMA node zero\n",
      "2023-01-31 12:02:47.958999: I tensorflow/stream_executor/cuda/cuda_gpu_executor.cc:937] successful NUMA node read from SysFS had negative value (-1), but there must be at least one NUMA node, so returning NUMA node zero\n",
      "2023-01-31 12:02:47.959669: I tensorflow/stream_executor/cuda/cuda_gpu_executor.cc:937] successful NUMA node read from SysFS had negative value (-1), but there must be at least one NUMA node, so returning NUMA node zero\n",
      "2023-01-31 12:02:50.839675: I tensorflow/stream_executor/cuda/cuda_gpu_executor.cc:937] successful NUMA node read from SysFS had negative value (-1), but there must be at least one NUMA node, so returning NUMA node zero\n",
      "2023-01-31 12:02:50.840521: I tensorflow/stream_executor/cuda/cuda_gpu_executor.cc:937] successful NUMA node read from SysFS had negative value (-1), but there must be at least one NUMA node, so returning NUMA node zero\n",
      "2023-01-31 12:02:50.841240: I tensorflow/stream_executor/cuda/cuda_gpu_executor.cc:937] successful NUMA node read from SysFS had negative value (-1), but there must be at least one NUMA node, so returning NUMA node zero\n",
      "2023-01-31 12:02:50.841943: I tensorflow/stream_executor/cuda/cuda_gpu_executor.cc:937] successful NUMA node read from SysFS had negative value (-1), but there must be at least one NUMA node, so returning NUMA node zero\n",
      "2023-01-31 12:02:50.842628: I tensorflow/stream_executor/cuda/cuda_gpu_executor.cc:937] successful NUMA node read from SysFS had negative value (-1), but there must be at least one NUMA node, so returning NUMA node zero\n",
      "2023-01-31 12:02:50.843286: I tensorflow/core/common_runtime/gpu/gpu_device.cc:1510] Created device /job:localhost/replica:0/task:0/device:GPU:0 with 13789 MB memory:  -> device: 0, name: Tesla T4, pci bus id: 0000:00:04.0, compute capability: 7.5\n",
      "2023-01-31 12:02:50.846350: I tensorflow/stream_executor/cuda/cuda_gpu_executor.cc:937] successful NUMA node read from SysFS had negative value (-1), but there must be at least one NUMA node, so returning NUMA node zero\n",
      "2023-01-31 12:02:50.847086: I tensorflow/core/common_runtime/gpu/gpu_device.cc:1510] Created device /job:localhost/replica:0/task:0/device:GPU:1 with 13789 MB memory:  -> device: 1, name: Tesla T4, pci bus id: 0000:00:05.0, compute capability: 7.5\n"
     ]
    }
   ],
   "source": [
    "model = Sequential()\n",
    "#Vamos a stakear capas\n",
    "\n",
    "##CONVOLUCION 1\n",
    "#en el parentesis hay: (Conv2D(#filtros, tamano de kernel, padding, kernel regularizer))\n",
    "model.add(Conv2D(base_filtros, (3,3), padding='same', kernel_regularizer=regularizers.l2(w_regularizer), input_shape=x_train.shape[1:])) \n",
    "#capa de activacion Relu\n",
    "model.add(Activation('relu'))\n",
    "#Capa de batch normalization\n",
    "model.add(BatchNormalization())\n",
    "\n",
    "##CONVOLUCION 2\n",
    "#No necesita definir entrada porque esta se ve definida por la capa anterior\n",
    "model.add(Conv2D(base_filtros, (3,3), padding='same', kernel_regularizer=regularizers.l2(w_regularizer)))\n",
    "#capa de activacion Relu\n",
    "model.add(Activation('relu'))\n",
    "#Capa de batch normalization\n",
    "model.add(BatchNormalization())\n",
    "#capa de maxpooling (Se hara cada 2 capas) para reducir la complejidad del modelo\n",
    "model.add(MaxPooling2D(pool_size=(2,2))) #El pool size o kernel sera de 2x2\n",
    "#capa de dropout para vigilar el overfiting\n",
    "model.add(Dropout(0.2))\n",
    "\n",
    "##CONVOLUCION 3\n",
    "#Se hara mas profunda. El doble de filtros\n",
    "model.add(Conv2D(2*base_filtros, (3,3), padding='same', kernel_regularizer=regularizers.l2(w_regularizer)))\n",
    "#capa de activacion Relu\n",
    "model.add(Activation('relu'))\n",
    "#Capa de batch normalization\n",
    "model.add(BatchNormalization())\n",
    "#capa de dropout\n",
    "model.add(Dropout(0.2))\n",
    "\n",
    "##CONVOLUCION 4\n",
    "model.add(Conv2D(2*base_filtros, (3,3), padding='same', kernel_regularizer=regularizers.l2(w_regularizer)))\n",
    "#capa de activacion Relu\n",
    "model.add(Activation('relu'))\n",
    "#Capa de batch normalization\n",
    "model.add(BatchNormalization())\n",
    "#capa de maxpooling\n",
    "model.add(MaxPooling2D(pool_size=(2,2)))\n",
    "#capa de dropout\n",
    "model.add(Dropout(0.3))\n",
    "\n",
    "##CONVOLUCION 5\n",
    "#Aun mas profunda. 4 veces mas filtros\n",
    "model.add(Conv2D(4*base_filtros, (3,3), padding='same', kernel_regularizer=regularizers.l2(w_regularizer)))\n",
    "#capa de activacion Relu\n",
    "model.add(Activation('relu'))\n",
    "#Capa de batch normalization\n",
    "model.add(BatchNormalization())\n",
    "\n",
    "##CONVOLUCION 6\n",
    "model.add(Conv2D(4*base_filtros, (3,3), padding='same', kernel_regularizer=regularizers.l2(w_regularizer)))\n",
    "#capa de activacion Relu\n",
    "model.add(Activation('relu'))\n",
    "#Capa de batch normalization\n",
    "model.add(BatchNormalization())\n",
    "#capa de maxpooling\n",
    "model.add(MaxPooling2D(pool_size=(2,2)))\n",
    "#capa de dropout\n",
    "model.add(Dropout(0.4))\n",
    "\n",
    "##CLASIFICACION Y FLATTEN\n",
    "#capa flatten para agregar todo el resultado de la ultima convolucion se va a llevar a una unica dimension\n",
    "model.add(Flatten())\n",
    "#capa fully conect densa para la clasificacion de las imagenes\n",
    "model.add(Dense(num_clases, activation='softmax'))\n",
    "\n",
    "model.summary()\n"
   ]
  },
  {
   "cell_type": "code",
   "execution_count": 13,
   "id": "b54dcd32",
   "metadata": {
    "execution": {
     "iopub.execute_input": "2023-01-31T12:02:51.404838Z",
     "iopub.status.busy": "2023-01-31T12:02:51.404542Z",
     "iopub.status.idle": "2023-01-31T12:02:51.409588Z",
     "shell.execute_reply": "2023-01-31T12:02:51.408484Z"
    },
    "papermill": {
     "duration": 0.017453,
     "end_time": "2023-01-31T12:02:51.412007",
     "exception": false,
     "start_time": "2023-01-31T12:02:51.394554",
     "status": "completed"
    },
    "tags": []
   },
   "outputs": [],
   "source": [
    "datagen = ImageDataGenerator(rotation_range = 15,\n",
    "                      width_shift_range = 0.1,\n",
    "                      height_shift_range = 0.1,\n",
    "                      horizontal_flip = True,\n",
    "                      vertical_flip = True)"
   ]
  },
  {
   "cell_type": "markdown",
   "id": "79f3517c",
   "metadata": {
    "papermill": {
     "duration": 0.008381,
     "end_time": "2023-01-31T12:02:51.429616",
     "exception": false,
     "start_time": "2023-01-31T12:02:51.421235",
     "status": "completed"
    },
    "tags": []
   },
   "source": [
    "### Compilacion de Modelo ###"
   ]
  },
  {
   "cell_type": "code",
   "execution_count": 14,
   "id": "3f6d9c86",
   "metadata": {
    "execution": {
     "iopub.execute_input": "2023-01-31T12:02:51.448065Z",
     "iopub.status.busy": "2023-01-31T12:02:51.447810Z",
     "iopub.status.idle": "2023-01-31T12:02:51.459303Z",
     "shell.execute_reply": "2023-01-31T12:02:51.458489Z"
    },
    "papermill": {
     "duration": 0.023195,
     "end_time": "2023-01-31T12:02:51.461277",
     "exception": false,
     "start_time": "2023-01-31T12:02:51.438082",
     "status": "completed"
    },
    "tags": []
   },
   "outputs": [],
   "source": [
    "model.compile(loss='categorical_crossentropy', optimizer='rmsprop',\n",
    "             metrics=['accuracy'])"
   ]
  },
  {
   "cell_type": "markdown",
   "id": "9f27efc6",
   "metadata": {
    "papermill": {
     "duration": 0.012553,
     "end_time": "2023-01-31T12:02:51.482106",
     "exception": false,
     "start_time": "2023-01-31T12:02:51.469553",
     "status": "completed"
    },
    "tags": []
   },
   "source": [
    "Entrenamiento del modelo"
   ]
  },
  {
   "cell_type": "code",
   "execution_count": 15,
   "id": "913be239",
   "metadata": {
    "collapsed": true,
    "execution": {
     "iopub.execute_input": "2023-01-31T12:02:51.691742Z",
     "iopub.status.busy": "2023-01-31T12:02:51.691248Z",
     "iopub.status.idle": "2023-01-31T12:19:17.021840Z",
     "shell.execute_reply": "2023-01-31T12:19:17.020515Z"
    },
    "jupyter": {
     "outputs_hidden": true
    },
    "papermill": {
     "duration": 985.533991,
     "end_time": "2023-01-31T12:19:17.025047",
     "exception": false,
     "start_time": "2023-01-31T12:02:51.491056",
     "status": "completed"
    },
    "tags": []
   },
   "outputs": [
    {
     "name": "stderr",
     "output_type": "stream",
     "text": [
      "2023-01-31 12:02:53.566948: I tensorflow/compiler/mlir/mlir_graph_optimization_pass.cc:185] None of the MLIR Optimization Passes are enabled (registered 2)\n"
     ]
    },
    {
     "name": "stdout",
     "output_type": "stream",
     "text": [
      "Epoch 1/100\n"
     ]
    },
    {
     "name": "stderr",
     "output_type": "stream",
     "text": [
      "2023-01-31 12:02:56.344041: I tensorflow/stream_executor/cuda/cuda_dnn.cc:369] Loaded cuDNN version 8005\n"
     ]
    },
    {
     "name": "stdout",
     "output_type": "stream",
     "text": [
      "1407/1407 - 20s - loss: 1.8550 - accuracy: 0.4634 - val_loss: 1.7962 - val_accuracy: 0.5556\n",
      "Epoch 2/100\n",
      "1407/1407 - 9s - loss: 1.1784 - accuracy: 0.6378 - val_loss: 0.9261 - val_accuracy: 0.7174\n",
      "Epoch 3/100\n",
      "1407/1407 - 10s - loss: 0.9896 - accuracy: 0.6988 - val_loss: 0.9023 - val_accuracy: 0.7326\n",
      "Epoch 4/100\n",
      "1407/1407 - 9s - loss: 0.8969 - accuracy: 0.7339 - val_loss: 0.8315 - val_accuracy: 0.7510\n",
      "Epoch 5/100\n",
      "1407/1407 - 9s - loss: 0.8307 - accuracy: 0.7586 - val_loss: 0.7874 - val_accuracy: 0.7748\n",
      "Epoch 6/100\n",
      "1407/1407 - 9s - loss: 0.7904 - accuracy: 0.7747 - val_loss: 0.7793 - val_accuracy: 0.7828\n",
      "Epoch 7/100\n",
      "1407/1407 - 9s - loss: 0.7529 - accuracy: 0.7879 - val_loss: 0.7397 - val_accuracy: 0.7938\n",
      "Epoch 8/100\n",
      "1407/1407 - 9s - loss: 0.7208 - accuracy: 0.8031 - val_loss: 0.7409 - val_accuracy: 0.8004\n",
      "Epoch 9/100\n",
      "1407/1407 - 9s - loss: 0.7057 - accuracy: 0.8121 - val_loss: 0.7161 - val_accuracy: 0.8092\n",
      "Epoch 10/100\n",
      "1407/1407 - 9s - loss: 0.6850 - accuracy: 0.8182 - val_loss: 0.6735 - val_accuracy: 0.8310\n",
      "Epoch 11/100\n",
      "1407/1407 - 9s - loss: 0.6698 - accuracy: 0.8265 - val_loss: 0.6728 - val_accuracy: 0.8308\n",
      "Epoch 12/100\n",
      "1407/1407 - 9s - loss: 0.6545 - accuracy: 0.8314 - val_loss: 0.6376 - val_accuracy: 0.8386\n",
      "Epoch 13/100\n",
      "1407/1407 - 10s - loss: 0.6483 - accuracy: 0.8344 - val_loss: 0.6755 - val_accuracy: 0.8308\n",
      "Epoch 14/100\n",
      "1407/1407 - 9s - loss: 0.6370 - accuracy: 0.8407 - val_loss: 0.6850 - val_accuracy: 0.8298\n",
      "Epoch 15/100\n",
      "1407/1407 - 9s - loss: 0.6280 - accuracy: 0.8450 - val_loss: 0.6595 - val_accuracy: 0.8408\n",
      "Epoch 16/100\n",
      "1407/1407 - 9s - loss: 0.6260 - accuracy: 0.8480 - val_loss: 0.6843 - val_accuracy: 0.8306\n",
      "Epoch 17/100\n",
      "1407/1407 - 9s - loss: 0.6207 - accuracy: 0.8501 - val_loss: 0.6538 - val_accuracy: 0.8374\n",
      "Epoch 18/100\n",
      "1407/1407 - 9s - loss: 0.6127 - accuracy: 0.8538 - val_loss: 0.6949 - val_accuracy: 0.8332\n",
      "Epoch 19/100\n",
      "1407/1407 - 9s - loss: 0.6120 - accuracy: 0.8529 - val_loss: 0.7278 - val_accuracy: 0.8220\n",
      "Epoch 20/100\n",
      "1407/1407 - 10s - loss: 0.6014 - accuracy: 0.8592 - val_loss: 0.6502 - val_accuracy: 0.8492\n",
      "Epoch 21/100\n",
      "1407/1407 - 9s - loss: 0.6000 - accuracy: 0.8581 - val_loss: 0.6633 - val_accuracy: 0.8442\n",
      "Epoch 22/100\n",
      "1407/1407 - 9s - loss: 0.5985 - accuracy: 0.8607 - val_loss: 0.6731 - val_accuracy: 0.8422\n",
      "Epoch 23/100\n",
      "1407/1407 - 10s - loss: 0.5972 - accuracy: 0.8616 - val_loss: 0.6504 - val_accuracy: 0.8518\n",
      "Epoch 24/100\n",
      "1407/1407 - 9s - loss: 0.5944 - accuracy: 0.8650 - val_loss: 0.6491 - val_accuracy: 0.8524\n",
      "Epoch 25/100\n",
      "1407/1407 - 9s - loss: 0.5881 - accuracy: 0.8658 - val_loss: 0.6711 - val_accuracy: 0.8418\n",
      "Epoch 26/100\n",
      "1407/1407 - 9s - loss: 0.5855 - accuracy: 0.8686 - val_loss: 0.7470 - val_accuracy: 0.8274\n",
      "Epoch 27/100\n",
      "1407/1407 - 9s - loss: 0.5776 - accuracy: 0.8709 - val_loss: 0.6739 - val_accuracy: 0.8478\n",
      "Epoch 28/100\n",
      "1407/1407 - 9s - loss: 0.5829 - accuracy: 0.8698 - val_loss: 0.6360 - val_accuracy: 0.8572\n",
      "Epoch 29/100\n",
      "1407/1407 - 9s - loss: 0.5759 - accuracy: 0.8720 - val_loss: 0.6717 - val_accuracy: 0.8492\n",
      "Epoch 30/100\n",
      "1407/1407 - 10s - loss: 0.5796 - accuracy: 0.8717 - val_loss: 0.6352 - val_accuracy: 0.8612\n",
      "Epoch 31/100\n",
      "1407/1407 - 9s - loss: 0.5818 - accuracy: 0.8716 - val_loss: 0.6723 - val_accuracy: 0.8490\n",
      "Epoch 32/100\n",
      "1407/1407 - 9s - loss: 0.5671 - accuracy: 0.8763 - val_loss: 0.6572 - val_accuracy: 0.8542\n",
      "Epoch 33/100\n",
      "1407/1407 - 9s - loss: 0.5743 - accuracy: 0.8748 - val_loss: 0.6560 - val_accuracy: 0.8532\n",
      "Epoch 34/100\n",
      "1407/1407 - 9s - loss: 0.5751 - accuracy: 0.8756 - val_loss: 0.6455 - val_accuracy: 0.8580\n",
      "Epoch 35/100\n",
      "1407/1407 - 9s - loss: 0.5672 - accuracy: 0.8779 - val_loss: 0.6342 - val_accuracy: 0.8618\n",
      "Epoch 36/100\n",
      "1407/1407 - 9s - loss: 0.5672 - accuracy: 0.8783 - val_loss: 0.6514 - val_accuracy: 0.8550\n",
      "Epoch 37/100\n",
      "1407/1407 - 10s - loss: 0.5608 - accuracy: 0.8802 - val_loss: 0.6592 - val_accuracy: 0.8584\n",
      "Epoch 38/100\n",
      "1407/1407 - 9s - loss: 0.5622 - accuracy: 0.8797 - val_loss: 0.6684 - val_accuracy: 0.8606\n",
      "Epoch 39/100\n",
      "1407/1407 - 9s - loss: 0.5600 - accuracy: 0.8808 - val_loss: 0.6492 - val_accuracy: 0.8610\n",
      "Epoch 40/100\n",
      "1407/1407 - 9s - loss: 0.5624 - accuracy: 0.8812 - val_loss: 0.6567 - val_accuracy: 0.8628\n",
      "Epoch 41/100\n",
      "1407/1407 - 9s - loss: 0.5573 - accuracy: 0.8821 - val_loss: 0.6627 - val_accuracy: 0.8518\n",
      "Epoch 42/100\n",
      "1407/1407 - 9s - loss: 0.5590 - accuracy: 0.8828 - val_loss: 0.6450 - val_accuracy: 0.8608\n",
      "Epoch 43/100\n",
      "1407/1407 - 9s - loss: 0.5555 - accuracy: 0.8847 - val_loss: 0.6936 - val_accuracy: 0.8484\n",
      "Epoch 44/100\n",
      "1407/1407 - 9s - loss: 0.5590 - accuracy: 0.8813 - val_loss: 0.6490 - val_accuracy: 0.8622\n",
      "Epoch 45/100\n",
      "1407/1407 - 9s - loss: 0.5615 - accuracy: 0.8810 - val_loss: 0.6327 - val_accuracy: 0.8626\n",
      "Epoch 46/100\n",
      "1407/1407 - 9s - loss: 0.5554 - accuracy: 0.8850 - val_loss: 0.6607 - val_accuracy: 0.8616\n",
      "Epoch 47/100\n",
      "1407/1407 - 10s - loss: 0.5571 - accuracy: 0.8830 - val_loss: 0.6523 - val_accuracy: 0.8626\n",
      "Epoch 48/100\n",
      "1407/1407 - 9s - loss: 0.5529 - accuracy: 0.8851 - val_loss: 0.6568 - val_accuracy: 0.8596\n",
      "Epoch 49/100\n",
      "1407/1407 - 9s - loss: 0.5576 - accuracy: 0.8844 - val_loss: 0.6463 - val_accuracy: 0.8594\n",
      "Epoch 50/100\n",
      "1407/1407 - 9s - loss: 0.5524 - accuracy: 0.8857 - val_loss: 0.6343 - val_accuracy: 0.8694\n",
      "Epoch 51/100\n",
      "1407/1407 - 10s - loss: 0.5516 - accuracy: 0.8862 - val_loss: 0.6531 - val_accuracy: 0.8588\n",
      "Epoch 52/100\n",
      "1407/1407 - 9s - loss: 0.5501 - accuracy: 0.8853 - val_loss: 0.6520 - val_accuracy: 0.8658\n",
      "Epoch 53/100\n",
      "1407/1407 - 9s - loss: 0.5483 - accuracy: 0.8883 - val_loss: 0.6516 - val_accuracy: 0.8628\n",
      "Epoch 54/100\n",
      "1407/1407 - 9s - loss: 0.5525 - accuracy: 0.8870 - val_loss: 0.6422 - val_accuracy: 0.8624\n",
      "Epoch 55/100\n",
      "1407/1407 - 9s - loss: 0.5466 - accuracy: 0.8882 - val_loss: 0.6591 - val_accuracy: 0.8616\n",
      "Epoch 56/100\n",
      "1407/1407 - 9s - loss: 0.5498 - accuracy: 0.8871 - val_loss: 0.6446 - val_accuracy: 0.8632\n",
      "Epoch 57/100\n",
      "1407/1407 - 9s - loss: 0.5507 - accuracy: 0.8884 - val_loss: 0.6675 - val_accuracy: 0.8562\n",
      "Epoch 58/100\n",
      "1407/1407 - 9s - loss: 0.5481 - accuracy: 0.8874 - val_loss: 0.6482 - val_accuracy: 0.8620\n",
      "Epoch 59/100\n",
      "1407/1407 - 9s - loss: 0.5445 - accuracy: 0.8906 - val_loss: 0.6554 - val_accuracy: 0.8638\n",
      "Epoch 60/100\n",
      "1407/1407 - 9s - loss: 0.5470 - accuracy: 0.8873 - val_loss: 0.6493 - val_accuracy: 0.8592\n",
      "Epoch 61/100\n",
      "1407/1407 - 9s - loss: 0.5489 - accuracy: 0.8886 - val_loss: 0.6659 - val_accuracy: 0.8586\n",
      "Epoch 62/100\n",
      "1407/1407 - 9s - loss: 0.5403 - accuracy: 0.8914 - val_loss: 0.6835 - val_accuracy: 0.8528\n",
      "Epoch 63/100\n",
      "1407/1407 - 9s - loss: 0.5480 - accuracy: 0.8893 - val_loss: 0.6885 - val_accuracy: 0.8534\n",
      "Epoch 64/100\n",
      "1407/1407 - 9s - loss: 0.5392 - accuracy: 0.8893 - val_loss: 0.6538 - val_accuracy: 0.8600\n",
      "Epoch 65/100\n",
      "1407/1407 - 9s - loss: 0.5446 - accuracy: 0.8903 - val_loss: 0.6547 - val_accuracy: 0.8614\n",
      "Epoch 66/100\n",
      "1407/1407 - 9s - loss: 0.5428 - accuracy: 0.8896 - val_loss: 0.6443 - val_accuracy: 0.8726\n",
      "Epoch 67/100\n",
      "1407/1407 - 9s - loss: 0.5455 - accuracy: 0.8905 - val_loss: 0.6476 - val_accuracy: 0.8614\n",
      "Epoch 68/100\n",
      "1407/1407 - 9s - loss: 0.5461 - accuracy: 0.8904 - val_loss: 0.6779 - val_accuracy: 0.8566\n",
      "Epoch 69/100\n",
      "1407/1407 - 9s - loss: 0.5404 - accuracy: 0.8897 - val_loss: 0.6553 - val_accuracy: 0.8672\n",
      "Epoch 70/100\n",
      "1407/1407 - 9s - loss: 0.5398 - accuracy: 0.8930 - val_loss: 0.6800 - val_accuracy: 0.8558\n",
      "Epoch 71/100\n",
      "1407/1407 - 9s - loss: 0.5368 - accuracy: 0.8950 - val_loss: 0.6214 - val_accuracy: 0.8708\n",
      "Epoch 72/100\n",
      "1407/1407 - 9s - loss: 0.5399 - accuracy: 0.8925 - val_loss: 0.6631 - val_accuracy: 0.8596\n",
      "Epoch 73/100\n",
      "1407/1407 - 9s - loss: 0.5429 - accuracy: 0.8909 - val_loss: 0.6522 - val_accuracy: 0.8642\n",
      "Epoch 74/100\n",
      "1407/1407 - 9s - loss: 0.5396 - accuracy: 0.8916 - val_loss: 0.6824 - val_accuracy: 0.8520\n",
      "Epoch 75/100\n",
      "1407/1407 - 9s - loss: 0.5416 - accuracy: 0.8924 - val_loss: 0.6624 - val_accuracy: 0.8598\n",
      "Epoch 76/100\n",
      "1407/1407 - 9s - loss: 0.5363 - accuracy: 0.8945 - val_loss: 0.6770 - val_accuracy: 0.8564\n",
      "Epoch 77/100\n",
      "1407/1407 - 9s - loss: 0.5359 - accuracy: 0.8942 - val_loss: 0.6389 - val_accuracy: 0.8694\n",
      "Epoch 78/100\n",
      "1407/1407 - 10s - loss: 0.5350 - accuracy: 0.8949 - val_loss: 0.6480 - val_accuracy: 0.8624\n",
      "Epoch 79/100\n",
      "1407/1407 - 9s - loss: 0.5344 - accuracy: 0.8954 - val_loss: 0.6540 - val_accuracy: 0.8644\n",
      "Epoch 80/100\n",
      "1407/1407 - 9s - loss: 0.5372 - accuracy: 0.8920 - val_loss: 0.6318 - val_accuracy: 0.8714\n",
      "Epoch 81/100\n",
      "1407/1407 - 9s - loss: 0.5377 - accuracy: 0.8949 - val_loss: 0.6475 - val_accuracy: 0.8614\n",
      "Epoch 82/100\n",
      "1407/1407 - 9s - loss: 0.5344 - accuracy: 0.8948 - val_loss: 0.6349 - val_accuracy: 0.8630\n",
      "Epoch 83/100\n",
      "1407/1407 - 9s - loss: 0.5355 - accuracy: 0.8932 - val_loss: 0.6315 - val_accuracy: 0.8664\n",
      "Epoch 84/100\n",
      "1407/1407 - 9s - loss: 0.5338 - accuracy: 0.8952 - val_loss: 0.6367 - val_accuracy: 0.8656\n",
      "Epoch 85/100\n",
      "1407/1407 - 9s - loss: 0.5360 - accuracy: 0.8934 - val_loss: 0.6413 - val_accuracy: 0.8640\n",
      "Epoch 86/100\n",
      "1407/1407 - 10s - loss: 0.5301 - accuracy: 0.8960 - val_loss: 0.6725 - val_accuracy: 0.8634\n",
      "Epoch 87/100\n",
      "1407/1407 - 9s - loss: 0.5320 - accuracy: 0.8946 - val_loss: 0.7101 - val_accuracy: 0.8554\n",
      "Epoch 88/100\n",
      "1407/1407 - 9s - loss: 0.5328 - accuracy: 0.8946 - val_loss: 0.6469 - val_accuracy: 0.8636\n",
      "Epoch 89/100\n",
      "1407/1407 - 9s - loss: 0.5360 - accuracy: 0.8946 - val_loss: 0.6584 - val_accuracy: 0.8594\n",
      "Epoch 90/100\n",
      "1407/1407 - 9s - loss: 0.5326 - accuracy: 0.8958 - val_loss: 0.6516 - val_accuracy: 0.8596\n",
      "Epoch 91/100\n",
      "1407/1407 - 9s - loss: 0.5352 - accuracy: 0.8943 - val_loss: 0.6837 - val_accuracy: 0.8572\n",
      "Epoch 92/100\n",
      "1407/1407 - 9s - loss: 0.5325 - accuracy: 0.8955 - val_loss: 0.6832 - val_accuracy: 0.8560\n",
      "Epoch 93/100\n",
      "1407/1407 - 9s - loss: 0.5341 - accuracy: 0.8953 - val_loss: 0.6267 - val_accuracy: 0.8704\n",
      "Epoch 94/100\n",
      "1407/1407 - 9s - loss: 0.5341 - accuracy: 0.8954 - val_loss: 0.6395 - val_accuracy: 0.8664\n",
      "Epoch 95/100\n",
      "1407/1407 - 9s - loss: 0.5292 - accuracy: 0.8969 - val_loss: 0.6529 - val_accuracy: 0.8656\n",
      "Epoch 96/100\n",
      "1407/1407 - 9s - loss: 0.5332 - accuracy: 0.8956 - val_loss: 0.6507 - val_accuracy: 0.8656\n",
      "Epoch 97/100\n",
      "1407/1407 - 9s - loss: 0.5293 - accuracy: 0.8956 - val_loss: 0.6743 - val_accuracy: 0.8610\n",
      "Epoch 98/100\n",
      "1407/1407 - 9s - loss: 0.5308 - accuracy: 0.8964 - val_loss: 0.6511 - val_accuracy: 0.8668\n",
      "Epoch 99/100\n",
      "1407/1407 - 9s - loss: 0.5342 - accuracy: 0.8942 - val_loss: 0.6415 - val_accuracy: 0.8710\n",
      "Epoch 100/100\n",
      "1407/1407 - 9s - loss: 0.5271 - accuracy: 0.8978 - val_loss: 0.6580 - val_accuracy: 0.8670\n"
     ]
    }
   ],
   "source": [
    "#el batch size indica que va a tomar lotes de a 32 imagenes por iteracion\n",
    "#Si hay poquitas imagenes no hay necesidad de darle este paremetro, pero si hay muchas como en este caso, si se debe usar\n",
    "#A mayor batch size, mas recursos va a consumir.\n",
    "hist = model.fit(x_train, y_train, batch_size=32, epochs=100,\n",
    "                validation_data=(x_valid, y_valid),\n",
    "                verbose=2, shuffle=True) #Como se van a ver los datos, mezcla de datos"
   ]
  },
  {
   "cell_type": "markdown",
   "id": "4720e735",
   "metadata": {
    "papermill": {
     "duration": 0.027586,
     "end_time": "2023-01-31T12:19:17.080879",
     "exception": false,
     "start_time": "2023-01-31T12:19:17.053293",
     "status": "completed"
    },
    "tags": []
   },
   "source": [
    "Visualizacion de comportamiento "
   ]
  },
  {
   "cell_type": "code",
   "execution_count": 16,
   "id": "bfa9b75c",
   "metadata": {
    "execution": {
     "iopub.execute_input": "2023-01-31T12:19:17.138195Z",
     "iopub.status.busy": "2023-01-31T12:19:17.137700Z",
     "iopub.status.idle": "2023-01-31T12:19:17.412056Z",
     "shell.execute_reply": "2023-01-31T12:19:17.411091Z"
    },
    "papermill": {
     "duration": 0.305791,
     "end_time": "2023-01-31T12:19:17.414882",
     "exception": false,
     "start_time": "2023-01-31T12:19:17.109091",
     "status": "completed"
    },
    "tags": []
   },
   "outputs": [
    {
     "data": {
      "image/png": "[encoded data removed]",
      "text/plain": [
       "<Figure size 432x288 with 1 Axes>"
      ]
     },
     "metadata": {
      "needs_background": "light"
     },
     "output_type": "display_data"
    }
   ],
   "source": [
    "plt.plot(hist.history['accuracy'], label='Train')\n",
    "plt.plot(hist.history['val_accuracy'], label='Val')\n",
    "plt.legend()\n",
    "plt.show()"
   ]
  },
  {
   "cell_type": "code",
   "execution_count": 17,
   "id": "a960518e",
   "metadata": {
    "execution": {
     "iopub.execute_input": "2023-01-31T12:19:17.478810Z",
     "iopub.status.busy": "2023-01-31T12:19:17.478517Z",
     "iopub.status.idle": "2023-01-31T12:19:19.150049Z",
     "shell.execute_reply": "2023-01-31T12:19:19.148962Z"
    },
    "papermill": {
     "duration": 1.700172,
     "end_time": "2023-01-31T12:19:19.152394",
     "exception": false,
     "start_time": "2023-01-31T12:19:17.452222",
     "status": "completed"
    },
    "tags": []
   },
   "outputs": [
    {
     "name": "stdout",
     "output_type": "stream",
     "text": [
      "313/313 [==============================] - 1s 4ms/step - loss: 0.6791 - accuracy: 0.8630\n"
     ]
    },
    {
     "data": {
      "text/plain": [
       "[0.6791407465934753, 0.8629999756813049]"
      ]
     },
     "execution_count": 17,
     "metadata": {},
     "output_type": "execute_result"
    }
   ],
   "source": [
    "model.evaluate(x_test, y_test)"
   ]
  },
  {
   "cell_type": "markdown",
   "id": "847aac0e",
   "metadata": {
    "papermill": {
     "duration": 0.020513,
     "end_time": "2023-01-31T12:19:19.193202",
     "exception": false,
     "start_time": "2023-01-31T12:19:19.172689",
     "status": "completed"
    },
    "tags": []
   },
   "source": [
    "Hay varias estrategias que pueden ayudar a subir el accuracy.\n",
    "Una de ellas es el **Data Augmentation** esto se trata de \"aumentar\" el set de entrenamiento con las mismas imagenes pero con ciertas alteraciones como: rotacion (con fill mode nearest, reflect o wrap), desplazar la imagen en las 4 direcciones, aumentar o disminuir el brillo de la imagen, hacer zoom en recuadros especificos, etc."
   ]
  }
 ],
 "metadata": {
  "kernelspec": {
   "display_name": "Python 3",
   "language": "python",
   "name": "python3"
  },
  "language_info": {
   "codemirror_mode": {
    "name": "ipython",
    "version": 3
   },
   "file_extension": ".py",
   "mimetype": "text/x-python",
   "name": "python",
   "nbconvert_exporter": "python",
   "pygments_lexer": "ipython3",
   "version": "3.7.12"
  },
  "papermill": {
   "default_parameters": {},
   "duration": 1015.798125,
   "end_time": "2023-01-31T12:19:23.070693",
   "environment_variables": {},
   "exception": null,
   "input_path": "__notebook__.ipynb",
   "output_path": "__notebook__.ipynb",
   "parameters": {},
   "start_time": "2023-01-31T12:02:27.272568",
   "version": "2.3.4"
  }
 },
 "nbformat": 4,
 "nbformat_minor": 5
}
